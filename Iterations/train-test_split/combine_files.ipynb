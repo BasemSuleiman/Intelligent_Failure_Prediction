{
 "cells": [
  {
   "cell_type": "code",
   "execution_count": 18,
   "metadata": {},
   "outputs": [],
   "source": [
    "import numpy as np\n",
    "import os\n",
    "import pandas as pd\n",
    "import pprint\n",
    "import csv\n",
    "\n",
    "#path constants\n",
    "train_path = '../../data/train/'\n",
    "test_path = '../../data/test/'\n",
    "\n",
    "output_path = '../../data_all/'\n",
    "\n",
    "#type constants\n",
    "vehicle_types = ['ZVe44', 'ZV573', 'ZV63d', 'ZVfd4', 'ZVa9c', 'ZVa78', 'ZV252']\n",
    "\n",
    "#two label dataframes\n",
    "train_label_df = pd.read_csv(train_path + 'train_label.csv', delimiter = ',', encoding = 'utf-8')\n",
    "test_label_df = pd.read_csv(test_path + 'test_label.csv', delimiter = ',', encoding = 'utf-8')\n",
    "\n",
    "for vehicle_type in vehicle_types:\n",
    "    if not os.path.exists(output_path+vehicle_type):\n",
    "        os.makedirs(output_path+vehicle_type)"
   ]
  },
  {
   "cell_type": "code",
   "execution_count": 19,
   "metadata": {},
   "outputs": [],
   "source": [
    "def getLabel(filename, label_df):\n",
    "    idx = label_df.loc[label_df['sample_file_name'] == filename]\n",
    "    return idx.iloc[0]['label']\n",
    "\n",
    "def TraverseFiles(path, vehicle_type, label_df, output_path):\n",
    "\n",
    "    #vehicle_type: one string element under vehicle_types = ['ZVe44', 'ZV573', 'ZV63d', 'ZVfd4', 'ZVa9c', 'ZVa78', 'ZV252']\n",
    "    path = path + vehicle_type\n",
    "    #these are variables to calculate traversing progress (DO NOT CHANGE)\n",
    "    counts_per_percent = int(len(os.listdir(path)) / 100)\n",
    "    percentage_completion = 0\n",
    "    counter = 0\n",
    "\n",
    "    output_list = []\n",
    "    \n",
    "    for file in os.listdir(path):\n",
    "        sample_df = pd.read_csv(path + '/' + file, delimiter = ',', encoding = 'utf-8')\n",
    "        \n",
    "        \n",
    "        #exclude idling records:\n",
    "        \n",
    "        #engine rpm > 2000\n",
    "        new_df = sample_df[sample_df.iloc[:, 1] >= 2000]\n",
    "        #oil pump rpm > 2000\n",
    "        new_df = new_df[new_df.iloc[:,2] >= 2000]\n",
    "        #set pressure > 20\n",
    "        new_df = new_df[new_df.iloc[:,6] >= 20]\n",
    "        \n",
    "        if new_df.shape[0] == 0:\n",
    "            continue\n",
    "        \n",
    "        label_dict = dict()\n",
    "        label_dict['sample_file_name'] = file\n",
    "        label_dict['label'] = getLabel(file, label_df)\n",
    "        output_list.append(label_dict)\n",
    "        \n",
    "        new_df.to_csv(output_path + vehicle_type + '/'+file, index = False)\n",
    "        \n",
    "        \n",
    "        #belows are to show traversing progress (DO NOT CHANGE)\n",
    "        counter += 1\n",
    "        if counter == counts_per_percent:\n",
    "            counter = 0\n",
    "            percentage_completion += 1\n",
    "            print('traversing files under', path, ':', percentage_completion, \"%\", end=\"\\r\", flush=True)\n",
    "    \n",
    "    #export label into csv:\n",
    "    new_label_df = pd.DataFrame(output_list)\n",
    "    file_name = output_path+vehicle_type+'_label.csv'\n",
    "    #if file exists, append the content to the end\n",
    "    if os.path.exists(file_name):\n",
    "        df = pd.read_csv(file_name, delimiter = ',', encoding = 'utf-8')\n",
    "        df = df.append(new_label_df, ignore_index=True)\n",
    "        df.to_csv(file_name, index = False)\n",
    "    #otherwise create a file and save\n",
    "    else:\n",
    "        new_label_df.to_csv(file_name, index = False)"
   ]
  },
  {
   "cell_type": "code",
   "execution_count": 20,
   "metadata": {},
   "outputs": [
    {
     "name": "stdout",
     "output_type": "stream",
     "text": [
      "traversing files under ../../data/test/ZV252 : 153 %16 % % ../../data/test/ZV63d : 39 % %: 84 % ../../data/train/ZVfd4 : 68 %14 %% ../../data/train/ZV252 : 21 % ../../data/train/ZV252 : 30 % ../../data/train/ZV252 : 48 % % 14 % ../../data/test/ZV252 : 29 % ../../data/test/ZV252 : 41 % 62 % ../../data/test/ZV252 : 68 % ../../data/test/ZV252 : 121 %\r"
     ]
    }
   ],
   "source": [
    "for vehicle_type in vehicle_types:\n",
    "    TraverseFiles(train_path, vehicle_type, train_label_df, output_path)\n",
    "    TraverseFiles(test_path, vehicle_type, test_label_df, output_path)\n",
    "    "
   ]
  },
  {
   "cell_type": "code",
   "execution_count": null,
   "metadata": {},
   "outputs": [],
   "source": []
  }
 ],
 "metadata": {
  "kernelspec": {
   "display_name": "Python 3",
   "language": "python",
   "name": "python3"
  },
  "language_info": {
   "codemirror_mode": {
    "name": "ipython",
    "version": 3
   },
   "file_extension": ".py",
   "mimetype": "text/x-python",
   "name": "python",
   "nbconvert_exporter": "python",
   "pygments_lexer": "ipython3",
   "version": "3.7.7"
  }
 },
 "nbformat": 4,
 "nbformat_minor": 4
}
