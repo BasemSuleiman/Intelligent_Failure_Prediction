{
 "cells": [
  {
   "cell_type": "markdown",
   "metadata": {},
   "source": [
    "# Training for each cluster"
   ]
  },
  {
   "cell_type": "code",
   "execution_count": 1,
   "metadata": {},
   "outputs": [],
   "source": [
    "import numpy as np\n",
    "import os\n",
    "import pandas as pd\n",
    "import pprint\n",
    "import csv\n",
    "import pickle\n",
    "from sklearn.model_selection import KFold\n",
    "from sklearn.model_selection import cross_val_score\n",
    "\n",
    "n_clusters = 50"
   ]
  },
  {
   "cell_type": "markdown",
   "metadata": {},
   "source": [
    "## Non linear SVM"
   ]
  },
  {
   "cell_type": "code",
   "execution_count": 2,
   "metadata": {},
   "outputs": [],
   "source": [
    "from sklearn import svm\n",
    "\n",
    "def non_linear_svm_train(vehicle_type):\n",
    "    \n",
    "    weight = []\n",
    "    train_avg = []\n",
    "    cv_avg = []\n",
    "    for i in range(n_clusters):\n",
    "        \n",
    "        #load data\n",
    "        sample = pd.read_csv('../../EDA/Clustering/cluster/train/' + vehicle_type + '/cluster' + str(i) + '.csv')\n",
    "        sample_= sample[sample.iloc[: , -2] ==0]\n",
    "        if len(sample_) == 0 or len(sample_) == len(sample): continue\n",
    "        feature = sample.iloc[:,1:13]\n",
    "        label = sample.iloc[:,14]\n",
    "        print('cluster' + str(i) + ', shape: ', feature.shape, label.shape)\n",
    "        weight.append(feature.shape[0])\n",
    "        \n",
    "        #non-linear svm\n",
    "        clf = svm.SVC(C = 0.9)\n",
    "        clf.fit(feature, label)\n",
    "        acc = clf.score(feature, label)\n",
    "        print('training accuracy: ', acc)\n",
    "        train_avg.append(acc)\n",
    "        \n",
    "        #cv\n",
    "        kfold = KFold(n_splits = 5, shuffle = True, random_state = None)\n",
    "        cv_result = cross_val_score(clf, feature, label, cv = kfold)\n",
    "        print(\"Accuracy: \", cv_result)\n",
    "        print(\"Mean Acc: %.2f%%, SD: %.2f%%)\\n\" % (cv_result.mean() * 100, cv_result.std() * 100))\n",
    "        cv_avg.append(cv_result.mean() * 100)\n",
    "    \n",
    "    print(\"Overall training accuracy: \", np.average(train_avg, weights = weight))\n",
    "    print(\"Overall CV accuracy: \", np.average(cv_avg, weights = weight))"
   ]
  },
  {
   "cell_type": "code",
   "execution_count": 10,
   "metadata": {},
   "outputs": [
    {
     "name": "stdout",
     "output_type": "stream",
     "text": [
      "cluster0, shape:  (59515, 12) (59515,)\n",
      "training accuracy:  0.5367722422918592\n",
      "Accuracy:  [0.53734353 0.54036797 0.53146266 0.53616735 0.5385197 ]\n",
      "Mean Acc: 53.68%, SD: 0.30%)\n",
      "\n",
      "cluster1, shape:  (27570, 12) (27570,)\n",
      "training accuracy:  0.6022850924918389\n",
      "Accuracy:  [0.60065288 0.60536815 0.60917664 0.60246645 0.59212913]\n",
      "Mean Acc: 60.20%, SD: 0.57%)\n",
      "\n",
      "cluster2, shape:  (27163, 12) (27163,)\n",
      "training accuracy:  0.5773662702941501\n",
      "Accuracy:  [0.58181484 0.57537272 0.57242776 0.5769514  0.5802651 ]\n",
      "Mean Acc: 57.74%, SD: 0.34%)\n",
      "\n",
      "cluster3, shape:  (51135, 12) (51135,)\n",
      "training accuracy:  0.5719761415859979\n",
      "Accuracy:  [0.56741958 0.57543757 0.56839738 0.57641537 0.57221081]\n",
      "Mean Acc: 57.20%, SD: 0.36%)\n",
      "\n",
      "cluster4, shape:  (23587, 12) (23587,)\n",
      "training accuracy:  0.5480561326154237\n",
      "Accuracy:  [0.54726579 0.54853752 0.55607378 0.54526182 0.54314183]\n",
      "Mean Acc: 54.81%, SD: 0.44%)\n",
      "\n",
      "cluster5, shape:  (22661, 12) (22661,)\n",
      "training accuracy:  0.5625965314858127\n",
      "Accuracy:  [0.56562983 0.56332745 0.56663725 0.55494263 0.56222418]\n",
      "Mean Acc: 56.26%, SD: 0.41%)\n",
      "\n",
      "cluster6, shape:  (98354, 12) (98354,)\n",
      "training accuracy:  0.5690465054802042\n",
      "Accuracy:  [0.56662091 0.57226374 0.56448579 0.56890855 0.57295374]\n",
      "Mean Acc: 56.90%, SD: 0.32%)\n",
      "\n",
      "cluster7, shape:  (26391, 12) (26391,)\n",
      "training accuracy:  0.5328710545261642\n",
      "Accuracy:  [0.52850919 0.5320197  0.53637742 0.53694581 0.52425161]\n",
      "Mean Acc: 53.16%, SD: 0.48%)\n",
      "\n",
      "cluster8, shape:  (48955, 12) (48955,)\n",
      "training accuracy:  0.5287100398324992\n",
      "Accuracy:  [0.5240527  0.52701461 0.52915943 0.5317128  0.53161066]\n",
      "Mean Acc: 52.87%, SD: 0.29%)\n",
      "\n",
      "cluster9, shape:  (14655, 12) (14655,)\n",
      "training accuracy:  0.5607642442852269\n",
      "Accuracy:  [0.53940635 0.55203002 0.54622996 0.5629478  0.54418287]\n",
      "Mean Acc: 54.90%, SD: 0.81%)\n",
      "\n",
      "cluster10, shape:  (16929, 12) (16929,)\n",
      "training accuracy:  0.5557918364935909\n",
      "Accuracy:  [0.54548139 0.55877141 0.55493207 0.55759008 0.56011817]\n",
      "Mean Acc: 55.54%, SD: 0.52%)\n",
      "\n",
      "cluster11, shape:  (66246, 12) (66246,)\n",
      "training accuracy:  0.5280620716722519\n",
      "Accuracy:  [0.52633962 0.53437995 0.52841724 0.52494528 0.52622839]\n",
      "Mean Acc: 52.81%, SD: 0.33%)\n",
      "\n",
      "cluster12, shape:  (17851, 12) (17851,)\n",
      "training accuracy:  0.601422889473979\n",
      "Accuracy:  [0.60347242 0.6070028  0.58935574 0.5977591  0.59327731]\n",
      "Mean Acc: 59.82%, SD: 0.64%)\n",
      "\n",
      "cluster13, shape:  (39628, 12) (39628,)\n",
      "training accuracy:  0.5467851014434238\n",
      "Accuracy:  [0.54794348 0.5440323  0.54870048 0.55041009 0.54283912]\n",
      "Mean Acc: 54.68%, SD: 0.29%)\n",
      "\n",
      "cluster14, shape:  (19542, 12) (19542,)\n",
      "training accuracy:  0.5452870739944734\n",
      "Accuracy:  [0.53415196 0.53875672 0.54247697 0.54989765 0.54350051]\n",
      "Mean Acc: 54.18%, SD: 0.52%)\n",
      "\n",
      "cluster15, shape:  (31498, 12) (31498,)\n",
      "training accuracy:  0.5391135945139374\n",
      "Accuracy:  [0.53142857 0.53063492 0.54698413 0.54580092 0.53119543]\n",
      "Mean Acc: 53.72%, SD: 0.75%)\n",
      "\n",
      "cluster16, shape:  (4436, 12) (4436,)\n",
      "training accuracy:  0.5475653742110009\n",
      "Accuracy:  [0.52702703 0.52311161 0.54002255 0.53325817 0.5253664 ]\n",
      "Mean Acc: 52.98%, SD: 0.61%)\n",
      "\n",
      "cluster17, shape:  (28909, 12) (28909,)\n",
      "training accuracy:  0.522951330035629\n",
      "Accuracy:  [0.52940159 0.52248357 0.52109997 0.51954341 0.53018509]\n",
      "Mean Acc: 52.45%, SD: 0.44%)\n",
      "\n",
      "cluster18, shape:  (11896, 12) (11896,)\n",
      "training accuracy:  0.683422999327505\n",
      "Accuracy:  [0.68319328 0.67969735 0.67633459 0.691467   0.68642287]\n",
      "Mean Acc: 68.34%, SD: 0.53%)\n",
      "\n",
      "cluster19, shape:  (13348, 12) (13348,)\n",
      "training accuracy:  0.6740335630806114\n",
      "Accuracy:  [0.67602996 0.67378277 0.67191011 0.66916448 0.66878981]\n",
      "Mean Acc: 67.19%, SD: 0.27%)\n",
      "\n",
      "cluster20, shape:  (19486, 12) (19486,)\n",
      "training accuracy:  0.6164938930514215\n",
      "Accuracy:  [0.6221139  0.61585835 0.60713369 0.61200924 0.61046959]\n",
      "Mean Acc: 61.35%, SD: 0.51%)\n",
      "\n",
      "cluster21, shape:  (41572, 12) (41572,)\n",
      "training accuracy:  0.5675695179447705\n",
      "Accuracy:  [0.56343957 0.55874925 0.5712052  0.56843878 0.57601636]\n",
      "Mean Acc: 56.76%, SD: 0.60%)\n",
      "\n",
      "cluster22, shape:  (73268, 12) (73268,)\n",
      "training accuracy:  0.547633346071955\n",
      "Accuracy:  [0.54926982 0.5435376  0.54490242 0.55080871 0.54964854]\n",
      "Mean Acc: 54.76%, SD: 0.29%)\n",
      "\n",
      "cluster23, shape:  (13842, 12) (13842,)\n",
      "training accuracy:  0.654385204450224\n",
      "Accuracy:  [0.65402672 0.66233297 0.64486994 0.64776012 0.66293353]\n",
      "Mean Acc: 65.44%, SD: 0.74%)\n",
      "\n",
      "cluster24, shape:  (10927, 12) (10927,)\n",
      "training accuracy:  0.5592568866111467\n",
      "Accuracy:  [0.56999085 0.54437328 0.56521739 0.53318078 0.58169336]\n",
      "Mean Acc: 55.89%, SD: 1.76%)\n",
      "\n",
      "cluster25, shape:  (23492, 12) (23492,)\n",
      "training accuracy:  0.5410778137238209\n",
      "Accuracy:  [0.53266652 0.54032773 0.53618561 0.54235845 0.55023414]\n",
      "Mean Acc: 54.04%, SD: 0.60%)\n",
      "\n",
      "cluster26, shape:  (18738, 12) (18738,)\n",
      "training accuracy:  0.5846408368022201\n",
      "Accuracy:  [0.58671291 0.58564568 0.57657417 0.58233253 0.59194022]\n",
      "Mean Acc: 58.46%, SD: 0.51%)\n",
      "\n",
      "cluster27, shape:  (17491, 12) (17491,)\n",
      "training accuracy:  0.5675490252129667\n",
      "Accuracy:  [0.57187768 0.57061178 0.56832476 0.54888508 0.56746712]\n",
      "Mean Acc: 56.54%, SD: 0.84%)\n",
      "\n",
      "cluster28, shape:  (7079, 12) (7079,)\n",
      "training accuracy:  0.7176154824127702\n",
      "Accuracy:  [0.72669492 0.71539548 0.71751412 0.7069209  0.73074205]\n",
      "Mean Acc: 71.95%, SD: 0.85%)\n",
      "\n",
      "cluster29, shape:  (56138, 12) (56138,)\n",
      "training accuracy:  0.5477929388293135\n",
      "Accuracy:  [0.54836124 0.55272533 0.54916281 0.54547074 0.54324397]\n",
      "Mean Acc: 54.78%, SD: 0.32%)\n",
      "\n",
      "cluster30, shape:  (15713, 12) (15713,)\n",
      "training accuracy:  0.601476484439636\n",
      "Accuracy:  [0.60483614 0.59529112 0.6013363  0.59197963 0.59993635]\n",
      "Mean Acc: 59.87%, SD: 0.45%)\n",
      "\n",
      "cluster31, shape:  (28559, 12) (28559,)\n",
      "training accuracy:  0.5518400504219335\n",
      "Accuracy:  [0.55742297 0.56530112 0.54569328 0.544993   0.53983541]\n",
      "Mean Acc: 55.06%, SD: 0.93%)\n",
      "\n",
      "cluster32, shape:  (6426, 12) (6426,)\n",
      "training accuracy:  0.6483037659508247\n",
      "Accuracy:  [0.63685848 0.61322957 0.64669261 0.64202335 0.65603113]\n",
      "Mean Acc: 63.90%, SD: 1.43%)\n",
      "\n",
      "cluster33, shape:  (40977, 12) (40977,)\n",
      "training accuracy:  0.5543109549259341\n",
      "Accuracy:  [0.56417765 0.54441191 0.54984747 0.55009152 0.55302013]\n",
      "Mean Acc: 55.23%, SD: 0.66%)\n",
      "\n",
      "cluster34, shape:  (7098, 12) (7098,)\n",
      "training accuracy:  0.6122851507466892\n",
      "Accuracy:  [0.62394366 0.59859155 0.6        0.59901339 0.60676533]\n",
      "Mean Acc: 60.57%, SD: 0.96%)\n",
      "\n",
      "cluster35, shape:  (4986, 12) (4986,)\n",
      "training accuracy:  0.5770156438026474\n",
      "Accuracy:  [0.54609218 0.58976931 0.58174524 0.5777332  0.58174524]\n",
      "Mean Acc: 57.54%, SD: 1.52%)\n",
      "\n",
      "cluster36, shape:  (36872, 12) (36872,)\n",
      "training accuracy:  0.5550553265350402\n",
      "Accuracy:  [0.54576271 0.55891525 0.55695688 0.5490914  0.55383781]\n",
      "Mean Acc: 55.29%, SD: 0.49%)\n",
      "\n",
      "cluster37, shape:  (20737, 12) (20737,)\n",
      "training accuracy:  0.5360949028306891\n",
      "Accuracy:  [0.53134041 0.53399229 0.54087292 0.51507114 0.52978056]\n",
      "Mean Acc: 53.02%, SD: 0.85%)\n",
      "\n",
      "cluster38, shape:  (9386, 12) (9386,)\n",
      "training accuracy:  0.5866183677818027\n",
      "Accuracy:  [0.57294995 0.5594033  0.59616409 0.58071391 0.58710709]\n",
      "Mean Acc: 57.93%, SD: 1.25%)\n",
      "\n",
      "cluster39, shape:  (7784, 12) (7784,)\n",
      "training accuracy:  0.6251284686536485\n",
      "Accuracy:  [0.63326911 0.60179833 0.62748876 0.60629416 0.56041131]\n",
      "Mean Acc: 60.59%, SD: 2.57%)\n",
      "\n",
      "cluster40, shape:  (67174, 12) (67174,)\n",
      "training accuracy:  0.545344925119838\n",
      "Accuracy:  [0.54722739 0.54090063 0.54447339 0.55199107 0.5421319 ]\n",
      "Mean Acc: 54.53%, SD: 0.40%)\n",
      "\n",
      "cluster41, shape:  (8837, 12) (8837,)\n",
      "training accuracy:  0.5712345818716759\n",
      "Accuracy:  [0.56108597 0.58031674 0.56140351 0.57102434 0.5704584 ]\n",
      "Mean Acc: 56.89%, SD: 0.71%)\n",
      "\n",
      "cluster42, shape:  (28772, 12) (28772,)\n",
      "training accuracy:  0.5539413318504102\n",
      "Accuracy:  [0.54700261 0.55308427 0.56117483 0.55491832 0.55352798]\n",
      "Mean Acc: 55.39%, SD: 0.45%)\n",
      "\n",
      "cluster43, shape:  (6006, 12) (6006,)\n",
      "training accuracy:  0.6038961038961039\n",
      "Accuracy:  [0.59983361 0.58617818 0.58368027 0.59616986 0.62198168]\n",
      "Mean Acc: 59.76%, SD: 1.36%)\n",
      "\n",
      "cluster44, shape:  (29669, 12) (29669,)\n",
      "training accuracy:  0.6094239778893795\n",
      "Accuracy:  [0.60448264 0.59740479 0.61476239 0.61139198 0.61891117]\n",
      "Mean Acc: 60.94%, SD: 0.76%)\n",
      "\n",
      "cluster45, shape:  (7638, 12) (7638,)\n",
      "training accuracy:  0.6148206336737366\n",
      "Accuracy:  [0.59293194 0.6171466  0.60536649 0.60969221 0.62737394]\n",
      "Mean Acc: 61.05%, SD: 1.15%)\n",
      "\n",
      "cluster46, shape:  (64211, 12) (64211,)\n",
      "training accuracy:  0.5466508853623211\n",
      "Accuracy:  [0.55446547 0.54399626 0.54983647 0.54259461 0.542361  ]\n",
      "Mean Acc: 54.67%, SD: 0.48%)\n",
      "\n",
      "cluster47, shape:  (26760, 12) (26760,)\n"
     ]
    },
    {
     "name": "stdout",
     "output_type": "stream",
     "text": [
      "training accuracy:  0.5947309417040358\n",
      "Accuracy:  [0.59342302 0.59192825 0.59865471 0.58258595 0.60706278]\n",
      "Mean Acc: 59.47%, SD: 0.81%)\n",
      "\n",
      "cluster48, shape:  (13977, 12) (13977,)\n",
      "training accuracy:  0.6072833941475281\n",
      "Accuracy:  [0.61123033 0.60228898 0.59463327 0.59821109 0.61610018]\n",
      "Mean Acc: 60.45%, SD: 0.80%)\n",
      "\n",
      "cluster49, shape:  (5751, 12) (5751,)\n",
      "training accuracy:  0.8236828377673449\n",
      "Accuracy:  [0.8210252  0.82608696 0.83217391 0.82347826 0.81565217]\n",
      "Mean Acc: 82.37%, SD: 0.55%)\n",
      "\n",
      "Overall training accuracy:  0.5638400011681944\n",
      "Overall CV accuracy:  56.281711317289464\n"
     ]
    }
   ],
   "source": [
    "non_linear_svm_train('ZVe44')"
   ]
  },
  {
   "cell_type": "code",
   "execution_count": 3,
   "metadata": {},
   "outputs": [
    {
     "data": {
      "text/plain": [
       "'\\ncluster0, shape:  (59515, 12) (59515,)\\ntraining accuracy:  0.5397462824498026\\ncluster1, shape:  (27570, 12) (27570,)\\ntraining accuracy:  0.5965179542981501\\ncluster2, shape:  (27163, 12) (27163,)\\ntraining accuracy:  0.5546883628465191\\ncluster3, shape:  (51135, 12) (51135,)\\ntraining accuracy:  0.564994622078811\\ncluster4, shape:  (23587, 12) (23587,)\\ntraining accuracy:  0.5445372450926358\\n'"
      ]
     },
     "execution_count": 3,
     "metadata": {},
     "output_type": "execute_result"
    }
   ],
   "source": [
    "# default kernel = 'rbf', default gamma = 'scale'\n",
    "\n",
    "# in term of train accuracy:\n",
    "# svm.NuSVC() > SVC() > NuSVC(kernel = 'poly') > NuSVC(kernel = 'sigmoid')\n",
    "\n",
    "# svm.NuSVC()\n",
    "'''\n",
    "cluster0, shape:  (59515, 12) (59515,)\n",
    "training accuracy:  0.552012097790473\n",
    "cluster1, shape:  (27570, 12) (27570,)\n",
    "training accuracy:  0.638411316648531\n",
    "cluster2, shape:  (27163, 12) (27163,)\n",
    "training accuracy:  0.5764459006737106\n",
    "cluster3, shape:  (51135, 12) (51135,)\n",
    "training accuracy:  0.5741468661386526\n",
    "cluster4, shape:  (23587, 12) (23587,)\n",
    "training accuracy:  0.5552634926018569\n",
    "'''\n",
    "\n",
    "# svm.NuSVC(kernel = 'sigmoid')\n",
    "'''\n",
    "cluster0, shape:  (59515, 12) (59515,)\n",
    "training accuracy:  0.5087288918759977\n",
    "cluster1, shape:  (27570, 12) (27570,)\n",
    "training accuracy:  0.5147986942328618\n",
    "cluster2, shape:  (27163, 12) (27163,)\n",
    "training accuracy:  0.5016750727092\n",
    "cluster3, shape:  (51135, 12) (51135,)\n",
    "training accuracy:  0.5065806199276425\n",
    "cluster4, shape:  (23587, 12) (23587,)\n",
    "training accuracy:  0.5015474625853225\n",
    "'''\n",
    "\n",
    "# svm.NuSVC(kernel = 'poly')\n",
    "'''\n",
    "cluster0, shape:  (59515, 12) (59515,)\n",
    "training accuracy:  0.5397462824498026\n",
    "cluster1, shape:  (27570, 12) (27570,)\n",
    "training accuracy:  0.5965179542981501\n",
    "cluster2, shape:  (27163, 12) (27163,)\n",
    "training accuracy:  0.5546883628465191\n",
    "cluster3, shape:  (51135, 12) (51135,)\n",
    "training accuracy:  0.564994622078811\n",
    "cluster4, shape:  (23587, 12) (23587,)\n",
    "training accuracy:  0.5445372450926358\n",
    "'''"
   ]
  },
  {
   "cell_type": "markdown",
   "metadata": {},
   "source": [
    "## DNN"
   ]
  },
  {
   "cell_type": "code",
   "execution_count": 4,
   "metadata": {},
   "outputs": [],
   "source": [
    "from sklearn.neural_network import MLPClassifier\n",
    "def dnn_train(vehicle_type):\n",
    "    \n",
    "    weight = []\n",
    "    train_avg = []\n",
    "    cv_avg = []\n",
    "    for i in range(n_clusters):\n",
    "        \n",
    "        #load data\n",
    "        sample = pd.read_csv('../../EDA/Clustering/cluster/train/' + vehicle_type + '/cluster' + str(i) + '.csv')\n",
    "        sample_= sample[sample.iloc[: , -2] ==0]\n",
    "        if len(sample_) == 0 or len(sample_) == len(sample): continue\n",
    "        feature = sample.iloc[:,1:13]\n",
    "        label = sample.iloc[:,14]\n",
    "        print('cluster' + str(i) + ', shape: ', feature.shape, label.shape)\n",
    "        weight.append(feature.shape[0])\n",
    "        \n",
    "        #decision tree\n",
    "        clf = MLPClassifier()\n",
    "        clf.fit(feature, label)\n",
    "        acc = clf.score(feature, label)\n",
    "        print('training accuracy: ', acc)\n",
    "        train_avg.append(acc)\n",
    "        \n",
    "        #cv\n",
    "        kfold = KFold(n_splits = 5, shuffle = True, random_state = None)\n",
    "        cv_result = cross_val_score(clf, feature, label, cv = kfold)\n",
    "        print(\"Accuracy: \", cv_result)\n",
    "        print(\"Mean Acc: %.2f%%, SD: %.2f%%)\\n\" % (cv_result.mean() * 100, cv_result.std() * 100))\n",
    "        cv_avg.append(cv_result.mean() * 100)\n",
    "    \n",
    "    print(\"Overall training accuracy: \", np.average(train_avg, weights = weight))\n",
    "    print(\"Overall CV accuracy: \", np.average(cv_avg, weights = weight))"
   ]
  },
  {
   "cell_type": "code",
   "execution_count": 11,
   "metadata": {},
   "outputs": [
    {
     "name": "stdout",
     "output_type": "stream",
     "text": [
      "cluster0, shape:  (59515, 12) (59515,)\n",
      "training accuracy:  0.5655212971519785\n",
      "Accuracy:  [0.54767706 0.54633286 0.54792909 0.55725447 0.54742502]\n",
      "Mean Acc: 54.93%, SD: 0.40%)\n",
      "\n",
      "cluster1, shape:  (27570, 12) (27570,)\n"
     ]
    },
    {
     "name": "stderr",
     "output_type": "stream",
     "text": [
      "/opt/anaconda3/lib/python3.7/site-packages/sklearn/neural_network/_multilayer_perceptron.py:571: ConvergenceWarning: Stochastic Optimizer: Maximum iterations (200) reached and the optimization hasn't converged yet.\n",
      "  % self.max_iter, ConvergenceWarning)\n"
     ]
    },
    {
     "name": "stdout",
     "output_type": "stream",
     "text": [
      "training accuracy:  0.668190061661226\n"
     ]
    },
    {
     "name": "stderr",
     "output_type": "stream",
     "text": [
      "/opt/anaconda3/lib/python3.7/site-packages/sklearn/neural_network/_multilayer_perceptron.py:571: ConvergenceWarning: Stochastic Optimizer: Maximum iterations (200) reached and the optimization hasn't converged yet.\n",
      "  % self.max_iter, ConvergenceWarning)\n",
      "/opt/anaconda3/lib/python3.7/site-packages/sklearn/neural_network/_multilayer_perceptron.py:571: ConvergenceWarning: Stochastic Optimizer: Maximum iterations (200) reached and the optimization hasn't converged yet.\n",
      "  % self.max_iter, ConvergenceWarning)\n",
      "/opt/anaconda3/lib/python3.7/site-packages/sklearn/neural_network/_multilayer_perceptron.py:571: ConvergenceWarning: Stochastic Optimizer: Maximum iterations (200) reached and the optimization hasn't converged yet.\n",
      "  % self.max_iter, ConvergenceWarning)\n",
      "/opt/anaconda3/lib/python3.7/site-packages/sklearn/neural_network/_multilayer_perceptron.py:571: ConvergenceWarning: Stochastic Optimizer: Maximum iterations (200) reached and the optimization hasn't converged yet.\n",
      "  % self.max_iter, ConvergenceWarning)\n",
      "/opt/anaconda3/lib/python3.7/site-packages/sklearn/neural_network/_multilayer_perceptron.py:571: ConvergenceWarning: Stochastic Optimizer: Maximum iterations (200) reached and the optimization hasn't converged yet.\n",
      "  % self.max_iter, ConvergenceWarning)\n"
     ]
    },
    {
     "name": "stdout",
     "output_type": "stream",
     "text": [
      "Accuracy:  [0.65034458 0.65614799 0.64961915 0.674465   0.64925644]\n",
      "Mean Acc: 65.60%, SD: 0.96%)\n",
      "\n",
      "cluster2, shape:  (27163, 12) (27163,)\n"
     ]
    },
    {
     "name": "stderr",
     "output_type": "stream",
     "text": [
      "/opt/anaconda3/lib/python3.7/site-packages/sklearn/neural_network/_multilayer_perceptron.py:571: ConvergenceWarning: Stochastic Optimizer: Maximum iterations (200) reached and the optimization hasn't converged yet.\n",
      "  % self.max_iter, ConvergenceWarning)\n"
     ]
    },
    {
     "name": "stdout",
     "output_type": "stream",
     "text": [
      "training accuracy:  0.6021058056915657\n"
     ]
    },
    {
     "name": "stderr",
     "output_type": "stream",
     "text": [
      "/opt/anaconda3/lib/python3.7/site-packages/sklearn/neural_network/_multilayer_perceptron.py:571: ConvergenceWarning: Stochastic Optimizer: Maximum iterations (200) reached and the optimization hasn't converged yet.\n",
      "  % self.max_iter, ConvergenceWarning)\n",
      "/opt/anaconda3/lib/python3.7/site-packages/sklearn/neural_network/_multilayer_perceptron.py:571: ConvergenceWarning: Stochastic Optimizer: Maximum iterations (200) reached and the optimization hasn't converged yet.\n",
      "  % self.max_iter, ConvergenceWarning)\n",
      "/opt/anaconda3/lib/python3.7/site-packages/sklearn/neural_network/_multilayer_perceptron.py:571: ConvergenceWarning: Stochastic Optimizer: Maximum iterations (200) reached and the optimization hasn't converged yet.\n",
      "  % self.max_iter, ConvergenceWarning)\n",
      "/opt/anaconda3/lib/python3.7/site-packages/sklearn/neural_network/_multilayer_perceptron.py:571: ConvergenceWarning: Stochastic Optimizer: Maximum iterations (200) reached and the optimization hasn't converged yet.\n",
      "  % self.max_iter, ConvergenceWarning)\n"
     ]
    },
    {
     "name": "stdout",
     "output_type": "stream",
     "text": [
      "Accuracy:  [0.59414688 0.59617154 0.58807289 0.59204713 0.59756996]\n",
      "Mean Acc: 59.36%, SD: 0.33%)\n",
      "\n",
      "cluster3, shape:  (51135, 12) (51135,)\n",
      "training accuracy:  0.5855089469052508\n",
      "Accuracy:  [0.58345556 0.58355334 0.58404224 0.58629119 0.59166911]\n",
      "Mean Acc: 58.58%, SD: 0.31%)\n",
      "\n",
      "cluster4, shape:  (23587, 12) (23587,)\n",
      "training accuracy:  0.5709500996311527\n"
     ]
    },
    {
     "name": "stderr",
     "output_type": "stream",
     "text": [
      "/opt/anaconda3/lib/python3.7/site-packages/sklearn/neural_network/_multilayer_perceptron.py:571: ConvergenceWarning: Stochastic Optimizer: Maximum iterations (200) reached and the optimization hasn't converged yet.\n",
      "  % self.max_iter, ConvergenceWarning)\n",
      "/opt/anaconda3/lib/python3.7/site-packages/sklearn/neural_network/_multilayer_perceptron.py:571: ConvergenceWarning: Stochastic Optimizer: Maximum iterations (200) reached and the optimization hasn't converged yet.\n",
      "  % self.max_iter, ConvergenceWarning)\n",
      "/opt/anaconda3/lib/python3.7/site-packages/sklearn/neural_network/_multilayer_perceptron.py:571: ConvergenceWarning: Stochastic Optimizer: Maximum iterations (200) reached and the optimization hasn't converged yet.\n",
      "  % self.max_iter, ConvergenceWarning)\n",
      "/opt/anaconda3/lib/python3.7/site-packages/sklearn/neural_network/_multilayer_perceptron.py:571: ConvergenceWarning: Stochastic Optimizer: Maximum iterations (200) reached and the optimization hasn't converged yet.\n",
      "  % self.max_iter, ConvergenceWarning)\n"
     ]
    },
    {
     "name": "stdout",
     "output_type": "stream",
     "text": [
      "Accuracy:  [0.56061891 0.56952098 0.56688573 0.56010176 0.5738817 ]\n",
      "Mean Acc: 56.62%, SD: 0.53%)\n",
      "\n",
      "cluster5, shape:  (22661, 12) (22661,)\n"
     ]
    },
    {
     "name": "stderr",
     "output_type": "stream",
     "text": [
      "/opt/anaconda3/lib/python3.7/site-packages/sklearn/neural_network/_multilayer_perceptron.py:571: ConvergenceWarning: Stochastic Optimizer: Maximum iterations (200) reached and the optimization hasn't converged yet.\n",
      "  % self.max_iter, ConvergenceWarning)\n"
     ]
    },
    {
     "name": "stdout",
     "output_type": "stream",
     "text": [
      "training accuracy:  0.661488901637174\n"
     ]
    },
    {
     "name": "stderr",
     "output_type": "stream",
     "text": [
      "/opt/anaconda3/lib/python3.7/site-packages/sklearn/neural_network/_multilayer_perceptron.py:571: ConvergenceWarning: Stochastic Optimizer: Maximum iterations (200) reached and the optimization hasn't converged yet.\n",
      "  % self.max_iter, ConvergenceWarning)\n",
      "/opt/anaconda3/lib/python3.7/site-packages/sklearn/neural_network/_multilayer_perceptron.py:571: ConvergenceWarning: Stochastic Optimizer: Maximum iterations (200) reached and the optimization hasn't converged yet.\n",
      "  % self.max_iter, ConvergenceWarning)\n",
      "/opt/anaconda3/lib/python3.7/site-packages/sklearn/neural_network/_multilayer_perceptron.py:571: ConvergenceWarning: Stochastic Optimizer: Maximum iterations (200) reached and the optimization hasn't converged yet.\n",
      "  % self.max_iter, ConvergenceWarning)\n",
      "/opt/anaconda3/lib/python3.7/site-packages/sklearn/neural_network/_multilayer_perceptron.py:571: ConvergenceWarning: Stochastic Optimizer: Maximum iterations (200) reached and the optimization hasn't converged yet.\n",
      "  % self.max_iter, ConvergenceWarning)\n",
      "/opt/anaconda3/lib/python3.7/site-packages/sklearn/neural_network/_multilayer_perceptron.py:571: ConvergenceWarning: Stochastic Optimizer: Maximum iterations (200) reached and the optimization hasn't converged yet.\n",
      "  % self.max_iter, ConvergenceWarning)\n"
     ]
    },
    {
     "name": "stdout",
     "output_type": "stream",
     "text": [
      "Accuracy:  [0.60842709 0.62577229 0.60525154 0.63989409 0.6548985 ]\n",
      "Mean Acc: 62.68%, SD: 1.88%)\n",
      "\n",
      "cluster6, shape:  (98354, 12) (98354,)\n",
      "training accuracy:  0.5831282916810704\n",
      "Accuracy:  [0.57805907 0.56921356 0.58598953 0.57419552 0.58525674]\n",
      "Mean Acc: 57.85%, SD: 0.64%)\n",
      "\n",
      "cluster7, shape:  (26391, 12) (26391,)\n"
     ]
    },
    {
     "name": "stderr",
     "output_type": "stream",
     "text": [
      "/opt/anaconda3/lib/python3.7/site-packages/sklearn/neural_network/_multilayer_perceptron.py:571: ConvergenceWarning: Stochastic Optimizer: Maximum iterations (200) reached and the optimization hasn't converged yet.\n",
      "  % self.max_iter, ConvergenceWarning)\n"
     ]
    },
    {
     "name": "stdout",
     "output_type": "stream",
     "text": [
      "training accuracy:  0.5737562047667766\n"
     ]
    },
    {
     "name": "stderr",
     "output_type": "stream",
     "text": [
      "/opt/anaconda3/lib/python3.7/site-packages/sklearn/neural_network/_multilayer_perceptron.py:571: ConvergenceWarning: Stochastic Optimizer: Maximum iterations (200) reached and the optimization hasn't converged yet.\n",
      "  % self.max_iter, ConvergenceWarning)\n",
      "/opt/anaconda3/lib/python3.7/site-packages/sklearn/neural_network/_multilayer_perceptron.py:571: ConvergenceWarning: Stochastic Optimizer: Maximum iterations (200) reached and the optimization hasn't converged yet.\n",
      "  % self.max_iter, ConvergenceWarning)\n"
     ]
    },
    {
     "name": "stdout",
     "output_type": "stream",
     "text": [
      "Accuracy:  [0.565448   0.53940887 0.57502842 0.54945055 0.5591133 ]\n",
      "Mean Acc: 55.77%, SD: 1.24%)\n",
      "\n",
      "cluster8, shape:  (48955, 12) (48955,)\n",
      "training accuracy:  0.5548360739454601\n"
     ]
    },
    {
     "name": "stderr",
     "output_type": "stream",
     "text": [
      "/opt/anaconda3/lib/python3.7/site-packages/sklearn/neural_network/_multilayer_perceptron.py:571: ConvergenceWarning: Stochastic Optimizer: Maximum iterations (200) reached and the optimization hasn't converged yet.\n",
      "  % self.max_iter, ConvergenceWarning)\n"
     ]
    },
    {
     "name": "stdout",
     "output_type": "stream",
     "text": [
      "Accuracy:  [0.54161985 0.56031049 0.54723726 0.55019916 0.55193545]\n",
      "Mean Acc: 55.03%, SD: 0.61%)\n",
      "\n",
      "cluster9, shape:  (14655, 12) (14655,)\n"
     ]
    },
    {
     "name": "stderr",
     "output_type": "stream",
     "text": [
      "/opt/anaconda3/lib/python3.7/site-packages/sklearn/neural_network/_multilayer_perceptron.py:571: ConvergenceWarning: Stochastic Optimizer: Maximum iterations (200) reached and the optimization hasn't converged yet.\n",
      "  % self.max_iter, ConvergenceWarning)\n"
     ]
    },
    {
     "name": "stdout",
     "output_type": "stream",
     "text": [
      "training accuracy:  0.6169907881269191\n"
     ]
    },
    {
     "name": "stderr",
     "output_type": "stream",
     "text": [
      "/opt/anaconda3/lib/python3.7/site-packages/sklearn/neural_network/_multilayer_perceptron.py:571: ConvergenceWarning: Stochastic Optimizer: Maximum iterations (200) reached and the optimization hasn't converged yet.\n",
      "  % self.max_iter, ConvergenceWarning)\n",
      "/opt/anaconda3/lib/python3.7/site-packages/sklearn/neural_network/_multilayer_perceptron.py:571: ConvergenceWarning: Stochastic Optimizer: Maximum iterations (200) reached and the optimization hasn't converged yet.\n",
      "  % self.max_iter, ConvergenceWarning)\n",
      "/opt/anaconda3/lib/python3.7/site-packages/sklearn/neural_network/_multilayer_perceptron.py:571: ConvergenceWarning: Stochastic Optimizer: Maximum iterations (200) reached and the optimization hasn't converged yet.\n",
      "  % self.max_iter, ConvergenceWarning)\n",
      "/opt/anaconda3/lib/python3.7/site-packages/sklearn/neural_network/_multilayer_perceptron.py:571: ConvergenceWarning: Stochastic Optimizer: Maximum iterations (200) reached and the optimization hasn't converged yet.\n",
      "  % self.max_iter, ConvergenceWarning)\n",
      "/opt/anaconda3/lib/python3.7/site-packages/sklearn/neural_network/_multilayer_perceptron.py:571: ConvergenceWarning: Stochastic Optimizer: Maximum iterations (200) reached and the optimization hasn't converged yet.\n",
      "  % self.max_iter, ConvergenceWarning)\n"
     ]
    },
    {
     "name": "stdout",
     "output_type": "stream",
     "text": [
      "Accuracy:  [0.60047765 0.59706585 0.60696008 0.60730126 0.6066189 ]\n",
      "Mean Acc: 60.37%, SD: 0.42%)\n",
      "\n",
      "cluster10, shape:  (16929, 12) (16929,)\n"
     ]
    },
    {
     "name": "stderr",
     "output_type": "stream",
     "text": [
      "/opt/anaconda3/lib/python3.7/site-packages/sklearn/neural_network/_multilayer_perceptron.py:571: ConvergenceWarning: Stochastic Optimizer: Maximum iterations (200) reached and the optimization hasn't converged yet.\n",
      "  % self.max_iter, ConvergenceWarning)\n"
     ]
    },
    {
     "name": "stdout",
     "output_type": "stream",
     "text": [
      "training accuracy:  0.5937149270482603\n"
     ]
    },
    {
     "name": "stderr",
     "output_type": "stream",
     "text": [
      "/opt/anaconda3/lib/python3.7/site-packages/sklearn/neural_network/_multilayer_perceptron.py:571: ConvergenceWarning: Stochastic Optimizer: Maximum iterations (200) reached and the optimization hasn't converged yet.\n",
      "  % self.max_iter, ConvergenceWarning)\n",
      "/opt/anaconda3/lib/python3.7/site-packages/sklearn/neural_network/_multilayer_perceptron.py:571: ConvergenceWarning: Stochastic Optimizer: Maximum iterations (200) reached and the optimization hasn't converged yet.\n",
      "  % self.max_iter, ConvergenceWarning)\n",
      "/opt/anaconda3/lib/python3.7/site-packages/sklearn/neural_network/_multilayer_perceptron.py:571: ConvergenceWarning: Stochastic Optimizer: Maximum iterations (200) reached and the optimization hasn't converged yet.\n",
      "  % self.max_iter, ConvergenceWarning)\n",
      "/opt/anaconda3/lib/python3.7/site-packages/sklearn/neural_network/_multilayer_perceptron.py:571: ConvergenceWarning: Stochastic Optimizer: Maximum iterations (200) reached and the optimization hasn't converged yet.\n",
      "  % self.max_iter, ConvergenceWarning)\n",
      "/opt/anaconda3/lib/python3.7/site-packages/sklearn/neural_network/_multilayer_perceptron.py:571: ConvergenceWarning: Stochastic Optimizer: Maximum iterations (200) reached and the optimization hasn't converged yet.\n",
      "  % self.max_iter, ConvergenceWarning)\n"
     ]
    },
    {
     "name": "stdout",
     "output_type": "stream",
     "text": [
      "Accuracy:  [0.59775546 0.59539279 0.58712345 0.58771412 0.59025111]\n",
      "Mean Acc: 59.16%, SD: 0.42%)\n",
      "\n",
      "cluster11, shape:  (66246, 12) (66246,)\n",
      "training accuracy:  0.5609395284243577\n"
     ]
    },
    {
     "name": "stderr",
     "output_type": "stream",
     "text": [
      "/opt/anaconda3/lib/python3.7/site-packages/sklearn/neural_network/_multilayer_perceptron.py:571: ConvergenceWarning: Stochastic Optimizer: Maximum iterations (200) reached and the optimization hasn't converged yet.\n",
      "  % self.max_iter, ConvergenceWarning)\n"
     ]
    },
    {
     "name": "stdout",
     "output_type": "stream",
     "text": [
      "Accuracy:  [0.55818868 0.56464639 0.55468337 0.56577855 0.56713714]\n",
      "Mean Acc: 56.21%, SD: 0.48%)\n",
      "\n",
      "cluster12, shape:  (17851, 12) (17851,)\n",
      "training accuracy:  0.5949246540810038\n",
      "Accuracy:  [0.60683282 0.5952381  0.58459384 0.59803922 0.60504202]\n",
      "Mean Acc: 59.79%, SD: 0.79%)\n",
      "\n",
      "cluster13, shape:  (39628, 12) (39628,)\n"
     ]
    },
    {
     "name": "stderr",
     "output_type": "stream",
     "text": [
      "/opt/anaconda3/lib/python3.7/site-packages/sklearn/neural_network/_multilayer_perceptron.py:571: ConvergenceWarning: Stochastic Optimizer: Maximum iterations (200) reached and the optimization hasn't converged yet.\n",
      "  % self.max_iter, ConvergenceWarning)\n"
     ]
    },
    {
     "name": "stdout",
     "output_type": "stream",
     "text": [
      "training accuracy:  0.5921570606641768\n"
     ]
    },
    {
     "name": "stderr",
     "output_type": "stream",
     "text": [
      "/opt/anaconda3/lib/python3.7/site-packages/sklearn/neural_network/_multilayer_perceptron.py:571: ConvergenceWarning: Stochastic Optimizer: Maximum iterations (200) reached and the optimization hasn't converged yet.\n",
      "  % self.max_iter, ConvergenceWarning)\n",
      "/opt/anaconda3/lib/python3.7/site-packages/sklearn/neural_network/_multilayer_perceptron.py:571: ConvergenceWarning: Stochastic Optimizer: Maximum iterations (200) reached and the optimization hasn't converged yet.\n",
      "  % self.max_iter, ConvergenceWarning)\n",
      "/opt/anaconda3/lib/python3.7/site-packages/sklearn/neural_network/_multilayer_perceptron.py:571: ConvergenceWarning: Stochastic Optimizer: Maximum iterations (200) reached and the optimization hasn't converged yet.\n",
      "  % self.max_iter, ConvergenceWarning)\n",
      "/opt/anaconda3/lib/python3.7/site-packages/sklearn/neural_network/_multilayer_perceptron.py:571: ConvergenceWarning: Stochastic Optimizer: Maximum iterations (200) reached and the optimization hasn't converged yet.\n",
      "  % self.max_iter, ConvergenceWarning)\n",
      "/opt/anaconda3/lib/python3.7/site-packages/sklearn/neural_network/_multilayer_perceptron.py:571: ConvergenceWarning: Stochastic Optimizer: Maximum iterations (200) reached and the optimization hasn't converged yet.\n",
      "  % self.max_iter, ConvergenceWarning)\n"
     ]
    },
    {
     "name": "stdout",
     "output_type": "stream",
     "text": [
      "Accuracy:  [0.58200858 0.59626546 0.57115821 0.58851735 0.59179811]\n",
      "Mean Acc: 58.59%, SD: 0.87%)\n",
      "\n",
      "cluster14, shape:  (19542, 12) (19542,)\n"
     ]
    },
    {
     "name": "stderr",
     "output_type": "stream",
     "text": [
      "/opt/anaconda3/lib/python3.7/site-packages/sklearn/neural_network/_multilayer_perceptron.py:571: ConvergenceWarning: Stochastic Optimizer: Maximum iterations (200) reached and the optimization hasn't converged yet.\n",
      "  % self.max_iter, ConvergenceWarning)\n"
     ]
    },
    {
     "name": "stdout",
     "output_type": "stream",
     "text": [
      "training accuracy:  0.605669839320438\n"
     ]
    },
    {
     "name": "stderr",
     "output_type": "stream",
     "text": [
      "/opt/anaconda3/lib/python3.7/site-packages/sklearn/neural_network/_multilayer_perceptron.py:571: ConvergenceWarning: Stochastic Optimizer: Maximum iterations (200) reached and the optimization hasn't converged yet.\n",
      "  % self.max_iter, ConvergenceWarning)\n",
      "/opt/anaconda3/lib/python3.7/site-packages/sklearn/neural_network/_multilayer_perceptron.py:571: ConvergenceWarning: Stochastic Optimizer: Maximum iterations (200) reached and the optimization hasn't converged yet.\n",
      "  % self.max_iter, ConvergenceWarning)\n",
      "/opt/anaconda3/lib/python3.7/site-packages/sklearn/neural_network/_multilayer_perceptron.py:571: ConvergenceWarning: Stochastic Optimizer: Maximum iterations (200) reached and the optimization hasn't converged yet.\n",
      "  % self.max_iter, ConvergenceWarning)\n"
     ]
    },
    {
     "name": "stdout",
     "output_type": "stream",
     "text": [
      "Accuracy:  [0.5860834  0.59273471 0.60056295 0.58674514 0.59032753]\n",
      "Mean Acc: 59.13%, SD: 0.52%)\n",
      "\n",
      "cluster15, shape:  (31498, 12) (31498,)\n"
     ]
    },
    {
     "name": "stderr",
     "output_type": "stream",
     "text": [
      "/opt/anaconda3/lib/python3.7/site-packages/sklearn/neural_network/_multilayer_perceptron.py:571: ConvergenceWarning: Stochastic Optimizer: Maximum iterations (200) reached and the optimization hasn't converged yet.\n",
      "  % self.max_iter, ConvergenceWarning)\n"
     ]
    },
    {
     "name": "stdout",
     "output_type": "stream",
     "text": [
      "training accuracy:  0.5564797764937456\n",
      "Accuracy:  [0.54698413 0.54666667 0.5452381  0.54072075 0.53992697]\n",
      "Mean Acc: 54.39%, SD: 0.30%)\n",
      "\n",
      "cluster16, shape:  (4436, 12) (4436,)\n"
     ]
    },
    {
     "name": "stderr",
     "output_type": "stream",
     "text": [
      "/opt/anaconda3/lib/python3.7/site-packages/sklearn/neural_network/_multilayer_perceptron.py:571: ConvergenceWarning: Stochastic Optimizer: Maximum iterations (200) reached and the optimization hasn't converged yet.\n",
      "  % self.max_iter, ConvergenceWarning)\n"
     ]
    },
    {
     "name": "stdout",
     "output_type": "stream",
     "text": [
      "training accuracy:  0.5737150586113616\n"
     ]
    },
    {
     "name": "stderr",
     "output_type": "stream",
     "text": [
      "/opt/anaconda3/lib/python3.7/site-packages/sklearn/neural_network/_multilayer_perceptron.py:571: ConvergenceWarning: Stochastic Optimizer: Maximum iterations (200) reached and the optimization hasn't converged yet.\n",
      "  % self.max_iter, ConvergenceWarning)\n",
      "/opt/anaconda3/lib/python3.7/site-packages/sklearn/neural_network/_multilayer_perceptron.py:571: ConvergenceWarning: Stochastic Optimizer: Maximum iterations (200) reached and the optimization hasn't converged yet.\n",
      "  % self.max_iter, ConvergenceWarning)\n",
      "/opt/anaconda3/lib/python3.7/site-packages/sklearn/neural_network/_multilayer_perceptron.py:571: ConvergenceWarning: Stochastic Optimizer: Maximum iterations (200) reached and the optimization hasn't converged yet.\n",
      "  % self.max_iter, ConvergenceWarning)\n"
     ]
    },
    {
     "name": "stdout",
     "output_type": "stream",
     "text": [
      "Accuracy:  [0.53603604 0.53664036 0.56708005 0.56595265 0.55918828]\n",
      "Mean Acc: 55.30%, SD: 1.39%)\n",
      "\n",
      "cluster17, shape:  (28909, 12) (28909,)\n"
     ]
    },
    {
     "name": "stderr",
     "output_type": "stream",
     "text": [
      "/opt/anaconda3/lib/python3.7/site-packages/sklearn/neural_network/_multilayer_perceptron.py:571: ConvergenceWarning: Stochastic Optimizer: Maximum iterations (200) reached and the optimization hasn't converged yet.\n",
      "  % self.max_iter, ConvergenceWarning)\n"
     ]
    },
    {
     "name": "stdout",
     "output_type": "stream",
     "text": [
      "training accuracy:  0.5766370334497907\n"
     ]
    },
    {
     "name": "stderr",
     "output_type": "stream",
     "text": [
      "/opt/anaconda3/lib/python3.7/site-packages/sklearn/neural_network/_multilayer_perceptron.py:571: ConvergenceWarning: Stochastic Optimizer: Maximum iterations (200) reached and the optimization hasn't converged yet.\n",
      "  % self.max_iter, ConvergenceWarning)\n",
      "/opt/anaconda3/lib/python3.7/site-packages/sklearn/neural_network/_multilayer_perceptron.py:571: ConvergenceWarning: Stochastic Optimizer: Maximum iterations (200) reached and the optimization hasn't converged yet.\n",
      "  % self.max_iter, ConvergenceWarning)\n",
      "/opt/anaconda3/lib/python3.7/site-packages/sklearn/neural_network/_multilayer_perceptron.py:571: ConvergenceWarning: Stochastic Optimizer: Maximum iterations (200) reached and the optimization hasn't converged yet.\n",
      "  % self.max_iter, ConvergenceWarning)\n",
      "/opt/anaconda3/lib/python3.7/site-packages/sklearn/neural_network/_multilayer_perceptron.py:571: ConvergenceWarning: Stochastic Optimizer: Maximum iterations (200) reached and the optimization hasn't converged yet.\n",
      "  % self.max_iter, ConvergenceWarning)\n",
      "/opt/anaconda3/lib/python3.7/site-packages/sklearn/neural_network/_multilayer_perceptron.py:571: ConvergenceWarning: Stochastic Optimizer: Maximum iterations (200) reached and the optimization hasn't converged yet.\n",
      "  % self.max_iter, ConvergenceWarning)\n"
     ]
    },
    {
     "name": "stdout",
     "output_type": "stream",
     "text": [
      "Accuracy:  [0.57177447 0.5814597  0.58267036 0.56952612 0.56720291]\n",
      "Mean Acc: 57.45%, SD: 0.63%)\n",
      "\n",
      "cluster18, shape:  (11896, 12) (11896,)\n"
     ]
    },
    {
     "name": "stderr",
     "output_type": "stream",
     "text": [
      "/opt/anaconda3/lib/python3.7/site-packages/sklearn/neural_network/_multilayer_perceptron.py:571: ConvergenceWarning: Stochastic Optimizer: Maximum iterations (200) reached and the optimization hasn't converged yet.\n",
      "  % self.max_iter, ConvergenceWarning)\n"
     ]
    },
    {
     "name": "stdout",
     "output_type": "stream",
     "text": [
      "training accuracy:  0.7082212508406187\n"
     ]
    },
    {
     "name": "stderr",
     "output_type": "stream",
     "text": [
      "/opt/anaconda3/lib/python3.7/site-packages/sklearn/neural_network/_multilayer_perceptron.py:571: ConvergenceWarning: Stochastic Optimizer: Maximum iterations (200) reached and the optimization hasn't converged yet.\n",
      "  % self.max_iter, ConvergenceWarning)\n",
      "/opt/anaconda3/lib/python3.7/site-packages/sklearn/neural_network/_multilayer_perceptron.py:571: ConvergenceWarning: Stochastic Optimizer: Maximum iterations (200) reached and the optimization hasn't converged yet.\n",
      "  % self.max_iter, ConvergenceWarning)\n",
      "/opt/anaconda3/lib/python3.7/site-packages/sklearn/neural_network/_multilayer_perceptron.py:571: ConvergenceWarning: Stochastic Optimizer: Maximum iterations (200) reached and the optimization hasn't converged yet.\n",
      "  % self.max_iter, ConvergenceWarning)\n",
      "/opt/anaconda3/lib/python3.7/site-packages/sklearn/neural_network/_multilayer_perceptron.py:571: ConvergenceWarning: Stochastic Optimizer: Maximum iterations (200) reached and the optimization hasn't converged yet.\n",
      "  % self.max_iter, ConvergenceWarning)\n",
      "/opt/anaconda3/lib/python3.7/site-packages/sklearn/neural_network/_multilayer_perceptron.py:571: ConvergenceWarning: Stochastic Optimizer: Maximum iterations (200) reached and the optimization hasn't converged yet.\n",
      "  % self.max_iter, ConvergenceWarning)\n"
     ]
    },
    {
     "name": "stdout",
     "output_type": "stream",
     "text": [
      "Accuracy:  [0.70504202 0.70659941 0.71164355 0.70659941 0.71290458]\n",
      "Mean Acc: 70.86%, SD: 0.31%)\n",
      "\n",
      "cluster19, shape:  (13348, 12) (13348,)\n"
     ]
    },
    {
     "name": "stderr",
     "output_type": "stream",
     "text": [
      "/opt/anaconda3/lib/python3.7/site-packages/sklearn/neural_network/_multilayer_perceptron.py:571: ConvergenceWarning: Stochastic Optimizer: Maximum iterations (200) reached and the optimization hasn't converged yet.\n",
      "  % self.max_iter, ConvergenceWarning)\n"
     ]
    },
    {
     "name": "stdout",
     "output_type": "stream",
     "text": [
      "training accuracy:  0.7170362601138748\n"
     ]
    },
    {
     "name": "stderr",
     "output_type": "stream",
     "text": [
      "/opt/anaconda3/lib/python3.7/site-packages/sklearn/neural_network/_multilayer_perceptron.py:571: ConvergenceWarning: Stochastic Optimizer: Maximum iterations (200) reached and the optimization hasn't converged yet.\n",
      "  % self.max_iter, ConvergenceWarning)\n",
      "/opt/anaconda3/lib/python3.7/site-packages/sklearn/neural_network/_multilayer_perceptron.py:571: ConvergenceWarning: Stochastic Optimizer: Maximum iterations (200) reached and the optimization hasn't converged yet.\n",
      "  % self.max_iter, ConvergenceWarning)\n",
      "/opt/anaconda3/lib/python3.7/site-packages/sklearn/neural_network/_multilayer_perceptron.py:571: ConvergenceWarning: Stochastic Optimizer: Maximum iterations (200) reached and the optimization hasn't converged yet.\n",
      "  % self.max_iter, ConvergenceWarning)\n",
      "/opt/anaconda3/lib/python3.7/site-packages/sklearn/neural_network/_multilayer_perceptron.py:571: ConvergenceWarning: Stochastic Optimizer: Maximum iterations (200) reached and the optimization hasn't converged yet.\n",
      "  % self.max_iter, ConvergenceWarning)\n",
      "/opt/anaconda3/lib/python3.7/site-packages/sklearn/neural_network/_multilayer_perceptron.py:571: ConvergenceWarning: Stochastic Optimizer: Maximum iterations (200) reached and the optimization hasn't converged yet.\n",
      "  % self.max_iter, ConvergenceWarning)\n"
     ]
    },
    {
     "name": "stdout",
     "output_type": "stream",
     "text": [
      "Accuracy:  [0.69925094 0.71685393 0.7247191  0.69838891 0.70813039]\n",
      "Mean Acc: 70.95%, SD: 1.02%)\n",
      "\n",
      "cluster20, shape:  (19486, 12) (19486,)\n"
     ]
    },
    {
     "name": "stderr",
     "output_type": "stream",
     "text": [
      "/opt/anaconda3/lib/python3.7/site-packages/sklearn/neural_network/_multilayer_perceptron.py:571: ConvergenceWarning: Stochastic Optimizer: Maximum iterations (200) reached and the optimization hasn't converged yet.\n",
      "  % self.max_iter, ConvergenceWarning)\n"
     ]
    },
    {
     "name": "stdout",
     "output_type": "stream",
     "text": [
      "training accuracy:  0.6494406240377707\n"
     ]
    },
    {
     "name": "stderr",
     "output_type": "stream",
     "text": [
      "/opt/anaconda3/lib/python3.7/site-packages/sklearn/neural_network/_multilayer_perceptron.py:571: ConvergenceWarning: Stochastic Optimizer: Maximum iterations (200) reached and the optimization hasn't converged yet.\n",
      "  % self.max_iter, ConvergenceWarning)\n",
      "/opt/anaconda3/lib/python3.7/site-packages/sklearn/neural_network/_multilayer_perceptron.py:571: ConvergenceWarning: Stochastic Optimizer: Maximum iterations (200) reached and the optimization hasn't converged yet.\n",
      "  % self.max_iter, ConvergenceWarning)\n",
      "/opt/anaconda3/lib/python3.7/site-packages/sklearn/neural_network/_multilayer_perceptron.py:571: ConvergenceWarning: Stochastic Optimizer: Maximum iterations (200) reached and the optimization hasn't converged yet.\n",
      "  % self.max_iter, ConvergenceWarning)\n",
      "/opt/anaconda3/lib/python3.7/site-packages/sklearn/neural_network/_multilayer_perceptron.py:571: ConvergenceWarning: Stochastic Optimizer: Maximum iterations (200) reached and the optimization hasn't converged yet.\n",
      "  % self.max_iter, ConvergenceWarning)\n",
      "/opt/anaconda3/lib/python3.7/site-packages/sklearn/neural_network/_multilayer_perceptron.py:571: ConvergenceWarning: Stochastic Optimizer: Maximum iterations (200) reached and the optimization hasn't converged yet.\n",
      "  % self.max_iter, ConvergenceWarning)\n"
     ]
    },
    {
     "name": "stdout",
     "output_type": "stream",
     "text": [
      "Accuracy:  [0.63596716 0.63125481 0.63228124 0.6410059  0.64998717]\n",
      "Mean Acc: 63.81%, SD: 0.69%)\n",
      "\n",
      "cluster21, shape:  (41572, 12) (41572,)\n",
      "training accuracy:  0.5798614452035024\n"
     ]
    },
    {
     "name": "stderr",
     "output_type": "stream",
     "text": [
      "/opt/anaconda3/lib/python3.7/site-packages/sklearn/neural_network/_multilayer_perceptron.py:571: ConvergenceWarning: Stochastic Optimizer: Maximum iterations (200) reached and the optimization hasn't converged yet.\n",
      "  % self.max_iter, ConvergenceWarning)\n",
      "/opt/anaconda3/lib/python3.7/site-packages/sklearn/neural_network/_multilayer_perceptron.py:571: ConvergenceWarning: Stochastic Optimizer: Maximum iterations (200) reached and the optimization hasn't converged yet.\n",
      "  % self.max_iter, ConvergenceWarning)\n"
     ]
    },
    {
     "name": "stdout",
     "output_type": "stream",
     "text": [
      "Accuracy:  [0.58051714 0.57294047 0.59201347 0.57685831 0.58335338]\n",
      "Mean Acc: 58.11%, SD: 0.65%)\n",
      "\n",
      "cluster22, shape:  (73268, 12) (73268,)\n"
     ]
    },
    {
     "name": "stderr",
     "output_type": "stream",
     "text": [
      "/opt/anaconda3/lib/python3.7/site-packages/sklearn/neural_network/_multilayer_perceptron.py:571: ConvergenceWarning: Stochastic Optimizer: Maximum iterations (200) reached and the optimization hasn't converged yet.\n",
      "  % self.max_iter, ConvergenceWarning)\n"
     ]
    },
    {
     "name": "stdout",
     "output_type": "stream",
     "text": [
      "training accuracy:  0.567068843151171\n"
     ]
    },
    {
     "name": "stderr",
     "output_type": "stream",
     "text": [
      "/opt/anaconda3/lib/python3.7/site-packages/sklearn/neural_network/_multilayer_perceptron.py:571: ConvergenceWarning: Stochastic Optimizer: Maximum iterations (200) reached and the optimization hasn't converged yet.\n",
      "  % self.max_iter, ConvergenceWarning)\n"
     ]
    },
    {
     "name": "stdout",
     "output_type": "stream",
     "text": [
      "Accuracy:  [0.57021974 0.56789955 0.56673946 0.5620692  0.56650515]\n",
      "Mean Acc: 56.67%, SD: 0.27%)\n",
      "\n",
      "cluster23, shape:  (13842, 12) (13842,)\n"
     ]
    },
    {
     "name": "stderr",
     "output_type": "stream",
     "text": [
      "/opt/anaconda3/lib/python3.7/site-packages/sklearn/neural_network/_multilayer_perceptron.py:571: ConvergenceWarning: Stochastic Optimizer: Maximum iterations (200) reached and the optimization hasn't converged yet.\n",
      "  % self.max_iter, ConvergenceWarning)\n"
     ]
    },
    {
     "name": "stdout",
     "output_type": "stream",
     "text": [
      "training accuracy:  0.709724028319607\n"
     ]
    },
    {
     "name": "stderr",
     "output_type": "stream",
     "text": [
      "/opt/anaconda3/lib/python3.7/site-packages/sklearn/neural_network/_multilayer_perceptron.py:571: ConvergenceWarning: Stochastic Optimizer: Maximum iterations (200) reached and the optimization hasn't converged yet.\n",
      "  % self.max_iter, ConvergenceWarning)\n",
      "/opt/anaconda3/lib/python3.7/site-packages/sklearn/neural_network/_multilayer_perceptron.py:571: ConvergenceWarning: Stochastic Optimizer: Maximum iterations (200) reached and the optimization hasn't converged yet.\n",
      "  % self.max_iter, ConvergenceWarning)\n",
      "/opt/anaconda3/lib/python3.7/site-packages/sklearn/neural_network/_multilayer_perceptron.py:571: ConvergenceWarning: Stochastic Optimizer: Maximum iterations (200) reached and the optimization hasn't converged yet.\n",
      "  % self.max_iter, ConvergenceWarning)\n",
      "/opt/anaconda3/lib/python3.7/site-packages/sklearn/neural_network/_multilayer_perceptron.py:571: ConvergenceWarning: Stochastic Optimizer: Maximum iterations (200) reached and the optimization hasn't converged yet.\n",
      "  % self.max_iter, ConvergenceWarning)\n"
     ]
    },
    {
     "name": "stdout",
     "output_type": "stream",
     "text": [
      "Accuracy:  [0.70892019 0.68761286 0.70556358 0.70339595 0.69039017]\n",
      "Mean Acc: 69.92%, SD: 0.85%)\n",
      "\n",
      "cluster24, shape:  (10927, 12) (10927,)\n"
     ]
    },
    {
     "name": "stderr",
     "output_type": "stream",
     "text": [
      "/opt/anaconda3/lib/python3.7/site-packages/sklearn/neural_network/_multilayer_perceptron.py:571: ConvergenceWarning: Stochastic Optimizer: Maximum iterations (200) reached and the optimization hasn't converged yet.\n",
      "  % self.max_iter, ConvergenceWarning)\n"
     ]
    },
    {
     "name": "stdout",
     "output_type": "stream",
     "text": [
      "training accuracy:  0.6281687562917544\n"
     ]
    },
    {
     "name": "stderr",
     "output_type": "stream",
     "text": [
      "/opt/anaconda3/lib/python3.7/site-packages/sklearn/neural_network/_multilayer_perceptron.py:571: ConvergenceWarning: Stochastic Optimizer: Maximum iterations (200) reached and the optimization hasn't converged yet.\n",
      "  % self.max_iter, ConvergenceWarning)\n",
      "/opt/anaconda3/lib/python3.7/site-packages/sklearn/neural_network/_multilayer_perceptron.py:571: ConvergenceWarning: Stochastic Optimizer: Maximum iterations (200) reached and the optimization hasn't converged yet.\n",
      "  % self.max_iter, ConvergenceWarning)\n"
     ]
    },
    {
     "name": "stdout",
     "output_type": "stream",
     "text": [
      "Accuracy:  [0.60384263 0.62351327 0.62700229 0.61510297 0.58993135]\n",
      "Mean Acc: 61.19%, SD: 1.36%)\n",
      "\n",
      "cluster25, shape:  (23492, 12) (23492,)\n",
      "training accuracy:  0.5713008683807254\n"
     ]
    },
    {
     "name": "stderr",
     "output_type": "stream",
     "text": [
      "/opt/anaconda3/lib/python3.7/site-packages/sklearn/neural_network/_multilayer_perceptron.py:571: ConvergenceWarning: Stochastic Optimizer: Maximum iterations (200) reached and the optimization hasn't converged yet.\n",
      "  % self.max_iter, ConvergenceWarning)\n",
      "/opt/anaconda3/lib/python3.7/site-packages/sklearn/neural_network/_multilayer_perceptron.py:571: ConvergenceWarning: Stochastic Optimizer: Maximum iterations (200) reached and the optimization hasn't converged yet.\n",
      "  % self.max_iter, ConvergenceWarning)\n",
      "/opt/anaconda3/lib/python3.7/site-packages/sklearn/neural_network/_multilayer_perceptron.py:571: ConvergenceWarning: Stochastic Optimizer: Maximum iterations (200) reached and the optimization hasn't converged yet.\n",
      "  % self.max_iter, ConvergenceWarning)\n",
      "/opt/anaconda3/lib/python3.7/site-packages/sklearn/neural_network/_multilayer_perceptron.py:571: ConvergenceWarning: Stochastic Optimizer: Maximum iterations (200) reached and the optimization hasn't converged yet.\n",
      "  % self.max_iter, ConvergenceWarning)\n",
      "/opt/anaconda3/lib/python3.7/site-packages/sklearn/neural_network/_multilayer_perceptron.py:571: ConvergenceWarning: Stochastic Optimizer: Maximum iterations (200) reached and the optimization hasn't converged yet.\n",
      "  % self.max_iter, ConvergenceWarning)\n"
     ]
    },
    {
     "name": "stdout",
     "output_type": "stream",
     "text": [
      "Accuracy:  [0.5701213  0.57161098 0.5538527  0.58003406 0.56406982]\n",
      "Mean Acc: 56.79%, SD: 0.87%)\n",
      "\n",
      "cluster26, shape:  (18738, 12) (18738,)\n"
     ]
    },
    {
     "name": "stderr",
     "output_type": "stream",
     "text": [
      "/opt/anaconda3/lib/python3.7/site-packages/sklearn/neural_network/_multilayer_perceptron.py:571: ConvergenceWarning: Stochastic Optimizer: Maximum iterations (200) reached and the optimization hasn't converged yet.\n",
      "  % self.max_iter, ConvergenceWarning)\n"
     ]
    },
    {
     "name": "stdout",
     "output_type": "stream",
     "text": [
      "training accuracy:  0.60646813960935\n"
     ]
    },
    {
     "name": "stderr",
     "output_type": "stream",
     "text": [
      "/opt/anaconda3/lib/python3.7/site-packages/sklearn/neural_network/_multilayer_perceptron.py:571: ConvergenceWarning: Stochastic Optimizer: Maximum iterations (200) reached and the optimization hasn't converged yet.\n",
      "  % self.max_iter, ConvergenceWarning)\n",
      "/opt/anaconda3/lib/python3.7/site-packages/sklearn/neural_network/_multilayer_perceptron.py:571: ConvergenceWarning: Stochastic Optimizer: Maximum iterations (200) reached and the optimization hasn't converged yet.\n",
      "  % self.max_iter, ConvergenceWarning)\n",
      "/opt/anaconda3/lib/python3.7/site-packages/sklearn/neural_network/_multilayer_perceptron.py:571: ConvergenceWarning: Stochastic Optimizer: Maximum iterations (200) reached and the optimization hasn't converged yet.\n",
      "  % self.max_iter, ConvergenceWarning)\n"
     ]
    },
    {
     "name": "stdout",
     "output_type": "stream",
     "text": [
      "Accuracy:  [0.58084312 0.59044824 0.59178228 0.60688551 0.59194022]\n",
      "Mean Acc: 59.24%, SD: 0.83%)\n",
      "\n",
      "cluster27, shape:  (17491, 12) (17491,)\n"
     ]
    },
    {
     "name": "stderr",
     "output_type": "stream",
     "text": [
      "/opt/anaconda3/lib/python3.7/site-packages/sklearn/neural_network/_multilayer_perceptron.py:571: ConvergenceWarning: Stochastic Optimizer: Maximum iterations (200) reached and the optimization hasn't converged yet.\n",
      "  % self.max_iter, ConvergenceWarning)\n"
     ]
    },
    {
     "name": "stdout",
     "output_type": "stream",
     "text": [
      "training accuracy:  0.6037962380652907\n"
     ]
    },
    {
     "name": "stderr",
     "output_type": "stream",
     "text": [
      "/opt/anaconda3/lib/python3.7/site-packages/sklearn/neural_network/_multilayer_perceptron.py:571: ConvergenceWarning: Stochastic Optimizer: Maximum iterations (200) reached and the optimization hasn't converged yet.\n",
      "  % self.max_iter, ConvergenceWarning)\n",
      "/opt/anaconda3/lib/python3.7/site-packages/sklearn/neural_network/_multilayer_perceptron.py:571: ConvergenceWarning: Stochastic Optimizer: Maximum iterations (200) reached and the optimization hasn't converged yet.\n",
      "  % self.max_iter, ConvergenceWarning)\n"
     ]
    },
    {
     "name": "stdout",
     "output_type": "stream",
     "text": [
      "Accuracy:  [0.59331237 0.59062321 0.55974843 0.56803888 0.5754717 ]\n",
      "Mean Acc: 57.74%, SD: 1.29%)\n",
      "\n",
      "cluster28, shape:  (7079, 12) (7079,)\n"
     ]
    },
    {
     "name": "stderr",
     "output_type": "stream",
     "text": [
      "/opt/anaconda3/lib/python3.7/site-packages/sklearn/neural_network/_multilayer_perceptron.py:571: ConvergenceWarning: Stochastic Optimizer: Maximum iterations (200) reached and the optimization hasn't converged yet.\n",
      "  % self.max_iter, ConvergenceWarning)\n"
     ]
    },
    {
     "name": "stdout",
     "output_type": "stream",
     "text": [
      "training accuracy:  0.725667467156378\n"
     ]
    },
    {
     "name": "stderr",
     "output_type": "stream",
     "text": [
      "/opt/anaconda3/lib/python3.7/site-packages/sklearn/neural_network/_multilayer_perceptron.py:571: ConvergenceWarning: Stochastic Optimizer: Maximum iterations (200) reached and the optimization hasn't converged yet.\n",
      "  % self.max_iter, ConvergenceWarning)\n",
      "/opt/anaconda3/lib/python3.7/site-packages/sklearn/neural_network/_multilayer_perceptron.py:571: ConvergenceWarning: Stochastic Optimizer: Maximum iterations (200) reached and the optimization hasn't converged yet.\n",
      "  % self.max_iter, ConvergenceWarning)\n",
      "/opt/anaconda3/lib/python3.7/site-packages/sklearn/neural_network/_multilayer_perceptron.py:571: ConvergenceWarning: Stochastic Optimizer: Maximum iterations (200) reached and the optimization hasn't converged yet.\n",
      "  % self.max_iter, ConvergenceWarning)\n",
      "/opt/anaconda3/lib/python3.7/site-packages/sklearn/neural_network/_multilayer_perceptron.py:571: ConvergenceWarning: Stochastic Optimizer: Maximum iterations (200) reached and the optimization hasn't converged yet.\n",
      "  % self.max_iter, ConvergenceWarning)\n",
      "/opt/anaconda3/lib/python3.7/site-packages/sklearn/neural_network/_multilayer_perceptron.py:571: ConvergenceWarning: Stochastic Optimizer: Maximum iterations (200) reached and the optimization hasn't converged yet.\n",
      "  % self.max_iter, ConvergenceWarning)\n"
     ]
    },
    {
     "name": "stdout",
     "output_type": "stream",
     "text": [
      "Accuracy:  [0.70833333 0.72881356 0.72316384 0.73658192 0.71378092]\n",
      "Mean Acc: 72.21%, SD: 1.01%)\n",
      "\n",
      "cluster29, shape:  (56138, 12) (56138,)\n",
      "training accuracy:  0.5539028821831914\n",
      "Accuracy:  [0.55432846 0.55753473 0.55281439 0.54832101 0.56016745]\n",
      "Mean Acc: 55.46%, SD: 0.41%)\n",
      "\n",
      "cluster30, shape:  (15713, 12) (15713,)\n"
     ]
    },
    {
     "name": "stderr",
     "output_type": "stream",
     "text": [
      "/opt/anaconda3/lib/python3.7/site-packages/sklearn/neural_network/_multilayer_perceptron.py:571: ConvergenceWarning: Stochastic Optimizer: Maximum iterations (200) reached and the optimization hasn't converged yet.\n",
      "  % self.max_iter, ConvergenceWarning)\n"
     ]
    },
    {
     "name": "stdout",
     "output_type": "stream",
     "text": [
      "training accuracy:  0.6592630306115955\n"
     ]
    },
    {
     "name": "stderr",
     "output_type": "stream",
     "text": [
      "/opt/anaconda3/lib/python3.7/site-packages/sklearn/neural_network/_multilayer_perceptron.py:571: ConvergenceWarning: Stochastic Optimizer: Maximum iterations (200) reached and the optimization hasn't converged yet.\n",
      "  % self.max_iter, ConvergenceWarning)\n",
      "/opt/anaconda3/lib/python3.7/site-packages/sklearn/neural_network/_multilayer_perceptron.py:571: ConvergenceWarning: Stochastic Optimizer: Maximum iterations (200) reached and the optimization hasn't converged yet.\n",
      "  % self.max_iter, ConvergenceWarning)\n",
      "/opt/anaconda3/lib/python3.7/site-packages/sklearn/neural_network/_multilayer_perceptron.py:571: ConvergenceWarning: Stochastic Optimizer: Maximum iterations (200) reached and the optimization hasn't converged yet.\n",
      "  % self.max_iter, ConvergenceWarning)\n",
      "/opt/anaconda3/lib/python3.7/site-packages/sklearn/neural_network/_multilayer_perceptron.py:571: ConvergenceWarning: Stochastic Optimizer: Maximum iterations (200) reached and the optimization hasn't converged yet.\n",
      "  % self.max_iter, ConvergenceWarning)\n",
      "/opt/anaconda3/lib/python3.7/site-packages/sklearn/neural_network/_multilayer_perceptron.py:571: ConvergenceWarning: Stochastic Optimizer: Maximum iterations (200) reached and the optimization hasn't converged yet.\n",
      "  % self.max_iter, ConvergenceWarning)\n"
     ]
    },
    {
     "name": "stdout",
     "output_type": "stream",
     "text": [
      "Accuracy:  [0.65383392 0.66115177 0.63633471 0.6470401  0.64672183]\n",
      "Mean Acc: 64.90%, SD: 0.83%)\n",
      "\n",
      "cluster31, shape:  (28559, 12) (28559,)\n"
     ]
    },
    {
     "name": "stderr",
     "output_type": "stream",
     "text": [
      "/opt/anaconda3/lib/python3.7/site-packages/sklearn/neural_network/_multilayer_perceptron.py:571: ConvergenceWarning: Stochastic Optimizer: Maximum iterations (200) reached and the optimization hasn't converged yet.\n",
      "  % self.max_iter, ConvergenceWarning)\n"
     ]
    },
    {
     "name": "stdout",
     "output_type": "stream",
     "text": [
      "training accuracy:  0.5886060436289786\n"
     ]
    },
    {
     "name": "stderr",
     "output_type": "stream",
     "text": [
      "/opt/anaconda3/lib/python3.7/site-packages/sklearn/neural_network/_multilayer_perceptron.py:571: ConvergenceWarning: Stochastic Optimizer: Maximum iterations (200) reached and the optimization hasn't converged yet.\n",
      "  % self.max_iter, ConvergenceWarning)\n",
      "/opt/anaconda3/lib/python3.7/site-packages/sklearn/neural_network/_multilayer_perceptron.py:571: ConvergenceWarning: Stochastic Optimizer: Maximum iterations (200) reached and the optimization hasn't converged yet.\n",
      "  % self.max_iter, ConvergenceWarning)\n"
     ]
    },
    {
     "name": "stdout",
     "output_type": "stream",
     "text": [
      "Accuracy:  [0.54376751 0.55042017 0.55917367 0.580007   0.58010856]\n",
      "Mean Acc: 56.27%, SD: 1.50%)\n",
      "\n",
      "cluster32, shape:  (6426, 12) (6426,)\n"
     ]
    },
    {
     "name": "stderr",
     "output_type": "stream",
     "text": [
      "/opt/anaconda3/lib/python3.7/site-packages/sklearn/neural_network/_multilayer_perceptron.py:571: ConvergenceWarning: Stochastic Optimizer: Maximum iterations (200) reached and the optimization hasn't converged yet.\n",
      "  % self.max_iter, ConvergenceWarning)\n"
     ]
    },
    {
     "name": "stdout",
     "output_type": "stream",
     "text": [
      "training accuracy:  0.6573295985060691\n"
     ]
    },
    {
     "name": "stderr",
     "output_type": "stream",
     "text": [
      "/opt/anaconda3/lib/python3.7/site-packages/sklearn/neural_network/_multilayer_perceptron.py:571: ConvergenceWarning: Stochastic Optimizer: Maximum iterations (200) reached and the optimization hasn't converged yet.\n",
      "  % self.max_iter, ConvergenceWarning)\n",
      "/opt/anaconda3/lib/python3.7/site-packages/sklearn/neural_network/_multilayer_perceptron.py:571: ConvergenceWarning: Stochastic Optimizer: Maximum iterations (200) reached and the optimization hasn't converged yet.\n",
      "  % self.max_iter, ConvergenceWarning)\n",
      "/opt/anaconda3/lib/python3.7/site-packages/sklearn/neural_network/_multilayer_perceptron.py:571: ConvergenceWarning: Stochastic Optimizer: Maximum iterations (200) reached and the optimization hasn't converged yet.\n",
      "  % self.max_iter, ConvergenceWarning)\n",
      "/opt/anaconda3/lib/python3.7/site-packages/sklearn/neural_network/_multilayer_perceptron.py:571: ConvergenceWarning: Stochastic Optimizer: Maximum iterations (200) reached and the optimization hasn't converged yet.\n",
      "  % self.max_iter, ConvergenceWarning)\n"
     ]
    },
    {
     "name": "stdout",
     "output_type": "stream",
     "text": [
      "Accuracy:  [0.67340591 0.67315175 0.65447471 0.65525292 0.6381323 ]\n",
      "Mean Acc: 65.89%, SD: 1.32%)\n",
      "\n",
      "cluster33, shape:  (40977, 12) (40977,)\n"
     ]
    },
    {
     "name": "stderr",
     "output_type": "stream",
     "text": [
      "/opt/anaconda3/lib/python3.7/site-packages/sklearn/neural_network/_multilayer_perceptron.py:571: ConvergenceWarning: Stochastic Optimizer: Maximum iterations (200) reached and the optimization hasn't converged yet.\n",
      "  % self.max_iter, ConvergenceWarning)\n"
     ]
    },
    {
     "name": "stdout",
     "output_type": "stream",
     "text": [
      "training accuracy:  0.5838397149620519\n"
     ]
    },
    {
     "name": "stderr",
     "output_type": "stream",
     "text": [
      "/opt/anaconda3/lib/python3.7/site-packages/sklearn/neural_network/_multilayer_perceptron.py:571: ConvergenceWarning: Stochastic Optimizer: Maximum iterations (200) reached and the optimization hasn't converged yet.\n",
      "  % self.max_iter, ConvergenceWarning)\n",
      "/opt/anaconda3/lib/python3.7/site-packages/sklearn/neural_network/_multilayer_perceptron.py:571: ConvergenceWarning: Stochastic Optimizer: Maximum iterations (200) reached and the optimization hasn't converged yet.\n",
      "  % self.max_iter, ConvergenceWarning)\n",
      "/opt/anaconda3/lib/python3.7/site-packages/sklearn/neural_network/_multilayer_perceptron.py:571: ConvergenceWarning: Stochastic Optimizer: Maximum iterations (200) reached and the optimization hasn't converged yet.\n",
      "  % self.max_iter, ConvergenceWarning)\n"
     ]
    },
    {
     "name": "stdout",
     "output_type": "stream",
     "text": [
      "Accuracy:  [0.58418741 0.57747682 0.57803539 0.56949359 0.56863941]\n",
      "Mean Acc: 57.56%, SD: 0.58%)\n",
      "\n",
      "cluster34, shape:  (7098, 12) (7098,)\n"
     ]
    },
    {
     "name": "stderr",
     "output_type": "stream",
     "text": [
      "/opt/anaconda3/lib/python3.7/site-packages/sklearn/neural_network/_multilayer_perceptron.py:571: ConvergenceWarning: Stochastic Optimizer: Maximum iterations (200) reached and the optimization hasn't converged yet.\n",
      "  % self.max_iter, ConvergenceWarning)\n"
     ]
    },
    {
     "name": "stdout",
     "output_type": "stream",
     "text": [
      "training accuracy:  0.6287686672302057\n"
     ]
    },
    {
     "name": "stderr",
     "output_type": "stream",
     "text": [
      "/opt/anaconda3/lib/python3.7/site-packages/sklearn/neural_network/_multilayer_perceptron.py:571: ConvergenceWarning: Stochastic Optimizer: Maximum iterations (200) reached and the optimization hasn't converged yet.\n",
      "  % self.max_iter, ConvergenceWarning)\n",
      "/opt/anaconda3/lib/python3.7/site-packages/sklearn/neural_network/_multilayer_perceptron.py:571: ConvergenceWarning: Stochastic Optimizer: Maximum iterations (200) reached and the optimization hasn't converged yet.\n",
      "  % self.max_iter, ConvergenceWarning)\n",
      "/opt/anaconda3/lib/python3.7/site-packages/sklearn/neural_network/_multilayer_perceptron.py:571: ConvergenceWarning: Stochastic Optimizer: Maximum iterations (200) reached and the optimization hasn't converged yet.\n",
      "  % self.max_iter, ConvergenceWarning)\n",
      "/opt/anaconda3/lib/python3.7/site-packages/sklearn/neural_network/_multilayer_perceptron.py:571: ConvergenceWarning: Stochastic Optimizer: Maximum iterations (200) reached and the optimization hasn't converged yet.\n",
      "  % self.max_iter, ConvergenceWarning)\n",
      "/opt/anaconda3/lib/python3.7/site-packages/sklearn/neural_network/_multilayer_perceptron.py:571: ConvergenceWarning: Stochastic Optimizer: Maximum iterations (200) reached and the optimization hasn't converged yet.\n",
      "  % self.max_iter, ConvergenceWarning)\n"
     ]
    },
    {
     "name": "stdout",
     "output_type": "stream",
     "text": [
      "Accuracy:  [0.60985915 0.63943662 0.61901408 0.5961945  0.62297393]\n",
      "Mean Acc: 61.75%, SD: 1.43%)\n",
      "\n",
      "cluster35, shape:  (4986, 12) (4986,)\n"
     ]
    },
    {
     "name": "stderr",
     "output_type": "stream",
     "text": [
      "/opt/anaconda3/lib/python3.7/site-packages/sklearn/neural_network/_multilayer_perceptron.py:571: ConvergenceWarning: Stochastic Optimizer: Maximum iterations (200) reached and the optimization hasn't converged yet.\n",
      "  % self.max_iter, ConvergenceWarning)\n"
     ]
    },
    {
     "name": "stdout",
     "output_type": "stream",
     "text": [
      "training accuracy:  0.6119133574007221\n"
     ]
    },
    {
     "name": "stderr",
     "output_type": "stream",
     "text": [
      "/opt/anaconda3/lib/python3.7/site-packages/sklearn/neural_network/_multilayer_perceptron.py:571: ConvergenceWarning: Stochastic Optimizer: Maximum iterations (200) reached and the optimization hasn't converged yet.\n",
      "  % self.max_iter, ConvergenceWarning)\n",
      "/opt/anaconda3/lib/python3.7/site-packages/sklearn/neural_network/_multilayer_perceptron.py:571: ConvergenceWarning: Stochastic Optimizer: Maximum iterations (200) reached and the optimization hasn't converged yet.\n",
      "  % self.max_iter, ConvergenceWarning)\n",
      "/opt/anaconda3/lib/python3.7/site-packages/sklearn/neural_network/_multilayer_perceptron.py:571: ConvergenceWarning: Stochastic Optimizer: Maximum iterations (200) reached and the optimization hasn't converged yet.\n",
      "  % self.max_iter, ConvergenceWarning)\n",
      "/opt/anaconda3/lib/python3.7/site-packages/sklearn/neural_network/_multilayer_perceptron.py:571: ConvergenceWarning: Stochastic Optimizer: Maximum iterations (200) reached and the optimization hasn't converged yet.\n",
      "  % self.max_iter, ConvergenceWarning)\n",
      "/opt/anaconda3/lib/python3.7/site-packages/sklearn/neural_network/_multilayer_perceptron.py:571: ConvergenceWarning: Stochastic Optimizer: Maximum iterations (200) reached and the optimization hasn't converged yet.\n",
      "  % self.max_iter, ConvergenceWarning)\n"
     ]
    },
    {
     "name": "stdout",
     "output_type": "stream",
     "text": [
      "Accuracy:  [0.61923848 0.61685055 0.58776329 0.56569709 0.58475426]\n",
      "Mean Acc: 59.49%, SD: 2.04%)\n",
      "\n",
      "cluster36, shape:  (36872, 12) (36872,)\n",
      "training accuracy:  0.5663376003471469\n",
      "Accuracy:  [0.56677966 0.55972881 0.55505831 0.56509357 0.56265256]\n",
      "Mean Acc: 56.19%, SD: 0.41%)\n",
      "\n",
      "cluster37, shape:  (20737, 12) (20737,)\n"
     ]
    },
    {
     "name": "stderr",
     "output_type": "stream",
     "text": [
      "/opt/anaconda3/lib/python3.7/site-packages/sklearn/neural_network/_multilayer_perceptron.py:571: ConvergenceWarning: Stochastic Optimizer: Maximum iterations (200) reached and the optimization hasn't converged yet.\n",
      "  % self.max_iter, ConvergenceWarning)\n"
     ]
    },
    {
     "name": "stdout",
     "output_type": "stream",
     "text": [
      "training accuracy:  0.5721656941698413\n"
     ]
    },
    {
     "name": "stderr",
     "output_type": "stream",
     "text": [
      "/opt/anaconda3/lib/python3.7/site-packages/sklearn/neural_network/_multilayer_perceptron.py:571: ConvergenceWarning: Stochastic Optimizer: Maximum iterations (200) reached and the optimization hasn't converged yet.\n",
      "  % self.max_iter, ConvergenceWarning)\n",
      "/opt/anaconda3/lib/python3.7/site-packages/sklearn/neural_network/_multilayer_perceptron.py:571: ConvergenceWarning: Stochastic Optimizer: Maximum iterations (200) reached and the optimization hasn't converged yet.\n",
      "  % self.max_iter, ConvergenceWarning)\n",
      "/opt/anaconda3/lib/python3.7/site-packages/sklearn/neural_network/_multilayer_perceptron.py:571: ConvergenceWarning: Stochastic Optimizer: Maximum iterations (200) reached and the optimization hasn't converged yet.\n",
      "  % self.max_iter, ConvergenceWarning)\n",
      "/opt/anaconda3/lib/python3.7/site-packages/sklearn/neural_network/_multilayer_perceptron.py:571: ConvergenceWarning: Stochastic Optimizer: Maximum iterations (200) reached and the optimization hasn't converged yet.\n",
      "  % self.max_iter, ConvergenceWarning)\n"
     ]
    },
    {
     "name": "stdout",
     "output_type": "stream",
     "text": [
      "Accuracy:  [0.55930569 0.55641273 0.5565469  0.56209308 0.57005064]\n",
      "Mean Acc: 56.09%, SD: 0.50%)\n",
      "\n",
      "cluster38, shape:  (9386, 12) (9386,)\n",
      "training accuracy:  0.6031323247389729\n",
      "Accuracy:  [0.5798722  0.56259989 0.60415557 0.60628663 0.59243474]\n",
      "Mean Acc: 58.91%, SD: 1.63%)\n",
      "\n",
      "cluster39, shape:  (7784, 12) (7784,)\n"
     ]
    },
    {
     "name": "stderr",
     "output_type": "stream",
     "text": [
      "/opt/anaconda3/lib/python3.7/site-packages/sklearn/neural_network/_multilayer_perceptron.py:571: ConvergenceWarning: Stochastic Optimizer: Maximum iterations (200) reached and the optimization hasn't converged yet.\n",
      "  % self.max_iter, ConvergenceWarning)\n"
     ]
    },
    {
     "name": "stdout",
     "output_type": "stream",
     "text": [
      "training accuracy:  0.6736896197327852\n"
     ]
    },
    {
     "name": "stderr",
     "output_type": "stream",
     "text": [
      "/opt/anaconda3/lib/python3.7/site-packages/sklearn/neural_network/_multilayer_perceptron.py:571: ConvergenceWarning: Stochastic Optimizer: Maximum iterations (200) reached and the optimization hasn't converged yet.\n",
      "  % self.max_iter, ConvergenceWarning)\n",
      "/opt/anaconda3/lib/python3.7/site-packages/sklearn/neural_network/_multilayer_perceptron.py:571: ConvergenceWarning: Stochastic Optimizer: Maximum iterations (200) reached and the optimization hasn't converged yet.\n",
      "  % self.max_iter, ConvergenceWarning)\n",
      "/opt/anaconda3/lib/python3.7/site-packages/sklearn/neural_network/_multilayer_perceptron.py:571: ConvergenceWarning: Stochastic Optimizer: Maximum iterations (200) reached and the optimization hasn't converged yet.\n",
      "  % self.max_iter, ConvergenceWarning)\n",
      "/opt/anaconda3/lib/python3.7/site-packages/sklearn/neural_network/_multilayer_perceptron.py:571: ConvergenceWarning: Stochastic Optimizer: Maximum iterations (200) reached and the optimization hasn't converged yet.\n",
      "  % self.max_iter, ConvergenceWarning)\n",
      "/opt/anaconda3/lib/python3.7/site-packages/sklearn/neural_network/_multilayer_perceptron.py:571: ConvergenceWarning: Stochastic Optimizer: Maximum iterations (200) reached and the optimization hasn't converged yet.\n",
      "  % self.max_iter, ConvergenceWarning)\n"
     ]
    },
    {
     "name": "stdout",
     "output_type": "stream",
     "text": [
      "Accuracy:  [0.66217084 0.68721901 0.6596018  0.65510597 0.66773779]\n",
      "Mean Acc: 66.64%, SD: 1.12%)\n",
      "\n",
      "cluster40, shape:  (67174, 12) (67174,)\n",
      "training accuracy:  0.5646827641647065\n",
      "Accuracy:  [0.55169334 0.55950875 0.57059918 0.56278377 0.56223016]\n",
      "Mean Acc: 56.14%, SD: 0.61%)\n",
      "\n",
      "cluster41, shape:  (8837, 12) (8837,)\n"
     ]
    },
    {
     "name": "stderr",
     "output_type": "stream",
     "text": [
      "/opt/anaconda3/lib/python3.7/site-packages/sklearn/neural_network/_multilayer_perceptron.py:571: ConvergenceWarning: Stochastic Optimizer: Maximum iterations (200) reached and the optimization hasn't converged yet.\n",
      "  % self.max_iter, ConvergenceWarning)\n"
     ]
    },
    {
     "name": "stdout",
     "output_type": "stream",
     "text": [
      "training accuracy:  0.56716080117687\n"
     ]
    },
    {
     "name": "stderr",
     "output_type": "stream",
     "text": [
      "/opt/anaconda3/lib/python3.7/site-packages/sklearn/neural_network/_multilayer_perceptron.py:571: ConvergenceWarning: Stochastic Optimizer: Maximum iterations (200) reached and the optimization hasn't converged yet.\n",
      "  % self.max_iter, ConvergenceWarning)\n",
      "/opt/anaconda3/lib/python3.7/site-packages/sklearn/neural_network/_multilayer_perceptron.py:571: ConvergenceWarning: Stochastic Optimizer: Maximum iterations (200) reached and the optimization hasn't converged yet.\n",
      "  % self.max_iter, ConvergenceWarning)\n",
      "/opt/anaconda3/lib/python3.7/site-packages/sklearn/neural_network/_multilayer_perceptron.py:571: ConvergenceWarning: Stochastic Optimizer: Maximum iterations (200) reached and the optimization hasn't converged yet.\n",
      "  % self.max_iter, ConvergenceWarning)\n",
      "/opt/anaconda3/lib/python3.7/site-packages/sklearn/neural_network/_multilayer_perceptron.py:571: ConvergenceWarning: Stochastic Optimizer: Maximum iterations (200) reached and the optimization hasn't converged yet.\n",
      "  % self.max_iter, ConvergenceWarning)\n"
     ]
    },
    {
     "name": "stdout",
     "output_type": "stream",
     "text": [
      "Accuracy:  [0.56957014 0.57126697 0.57272213 0.57159027 0.57838144]\n",
      "Mean Acc: 57.27%, SD: 0.30%)\n",
      "\n",
      "cluster42, shape:  (28772, 12) (28772,)\n",
      "training accuracy:  0.5729181148338662\n"
     ]
    },
    {
     "name": "stderr",
     "output_type": "stream",
     "text": [
      "/opt/anaconda3/lib/python3.7/site-packages/sklearn/neural_network/_multilayer_perceptron.py:571: ConvergenceWarning: Stochastic Optimizer: Maximum iterations (200) reached and the optimization hasn't converged yet.\n",
      "  % self.max_iter, ConvergenceWarning)\n",
      "/opt/anaconda3/lib/python3.7/site-packages/sklearn/neural_network/_multilayer_perceptron.py:571: ConvergenceWarning: Stochastic Optimizer: Maximum iterations (200) reached and the optimization hasn't converged yet.\n",
      "  % self.max_iter, ConvergenceWarning)\n",
      "/opt/anaconda3/lib/python3.7/site-packages/sklearn/neural_network/_multilayer_perceptron.py:571: ConvergenceWarning: Stochastic Optimizer: Maximum iterations (200) reached and the optimization hasn't converged yet.\n",
      "  % self.max_iter, ConvergenceWarning)\n"
     ]
    },
    {
     "name": "stdout",
     "output_type": "stream",
     "text": [
      "Accuracy:  [0.56055604 0.56090356 0.57194995 0.56013208 0.57055961]\n",
      "Mean Acc: 56.48%, SD: 0.53%)\n",
      "\n",
      "cluster43, shape:  (6006, 12) (6006,)\n"
     ]
    },
    {
     "name": "stderr",
     "output_type": "stream",
     "text": [
      "/opt/anaconda3/lib/python3.7/site-packages/sklearn/neural_network/_multilayer_perceptron.py:571: ConvergenceWarning: Stochastic Optimizer: Maximum iterations (200) reached and the optimization hasn't converged yet.\n",
      "  % self.max_iter, ConvergenceWarning)\n"
     ]
    },
    {
     "name": "stdout",
     "output_type": "stream",
     "text": [
      "training accuracy:  0.6615051615051615\n"
     ]
    },
    {
     "name": "stderr",
     "output_type": "stream",
     "text": [
      "/opt/anaconda3/lib/python3.7/site-packages/sklearn/neural_network/_multilayer_perceptron.py:571: ConvergenceWarning: Stochastic Optimizer: Maximum iterations (200) reached and the optimization hasn't converged yet.\n",
      "  % self.max_iter, ConvergenceWarning)\n",
      "/opt/anaconda3/lib/python3.7/site-packages/sklearn/neural_network/_multilayer_perceptron.py:571: ConvergenceWarning: Stochastic Optimizer: Maximum iterations (200) reached and the optimization hasn't converged yet.\n",
      "  % self.max_iter, ConvergenceWarning)\n",
      "/opt/anaconda3/lib/python3.7/site-packages/sklearn/neural_network/_multilayer_perceptron.py:571: ConvergenceWarning: Stochastic Optimizer: Maximum iterations (200) reached and the optimization hasn't converged yet.\n",
      "  % self.max_iter, ConvergenceWarning)\n",
      "/opt/anaconda3/lib/python3.7/site-packages/sklearn/neural_network/_multilayer_perceptron.py:571: ConvergenceWarning: Stochastic Optimizer: Maximum iterations (200) reached and the optimization hasn't converged yet.\n",
      "  % self.max_iter, ConvergenceWarning)\n",
      "/opt/anaconda3/lib/python3.7/site-packages/sklearn/neural_network/_multilayer_perceptron.py:571: ConvergenceWarning: Stochastic Optimizer: Maximum iterations (200) reached and the optimization hasn't converged yet.\n",
      "  % self.max_iter, ConvergenceWarning)\n"
     ]
    },
    {
     "name": "stdout",
     "output_type": "stream",
     "text": [
      "Accuracy:  [0.6530782  0.67277269 0.65029142 0.65362198 0.63863447]\n",
      "Mean Acc: 65.37%, SD: 1.10%)\n",
      "\n",
      "cluster44, shape:  (29669, 12) (29669,)\n"
     ]
    },
    {
     "name": "stderr",
     "output_type": "stream",
     "text": [
      "/opt/anaconda3/lib/python3.7/site-packages/sklearn/neural_network/_multilayer_perceptron.py:571: ConvergenceWarning: Stochastic Optimizer: Maximum iterations (200) reached and the optimization hasn't converged yet.\n",
      "  % self.max_iter, ConvergenceWarning)\n"
     ]
    },
    {
     "name": "stdout",
     "output_type": "stream",
     "text": [
      "training accuracy:  0.6663857898816947\n"
     ]
    },
    {
     "name": "stderr",
     "output_type": "stream",
     "text": [
      "/opt/anaconda3/lib/python3.7/site-packages/sklearn/neural_network/_multilayer_perceptron.py:571: ConvergenceWarning: Stochastic Optimizer: Maximum iterations (200) reached and the optimization hasn't converged yet.\n",
      "  % self.max_iter, ConvergenceWarning)\n",
      "/opt/anaconda3/lib/python3.7/site-packages/sklearn/neural_network/_multilayer_perceptron.py:571: ConvergenceWarning: Stochastic Optimizer: Maximum iterations (200) reached and the optimization hasn't converged yet.\n",
      "  % self.max_iter, ConvergenceWarning)\n",
      "/opt/anaconda3/lib/python3.7/site-packages/sklearn/neural_network/_multilayer_perceptron.py:571: ConvergenceWarning: Stochastic Optimizer: Maximum iterations (200) reached and the optimization hasn't converged yet.\n",
      "  % self.max_iter, ConvergenceWarning)\n",
      "/opt/anaconda3/lib/python3.7/site-packages/sklearn/neural_network/_multilayer_perceptron.py:571: ConvergenceWarning: Stochastic Optimizer: Maximum iterations (200) reached and the optimization hasn't converged yet.\n",
      "  % self.max_iter, ConvergenceWarning)\n",
      "/opt/anaconda3/lib/python3.7/site-packages/sklearn/neural_network/_multilayer_perceptron.py:571: ConvergenceWarning: Stochastic Optimizer: Maximum iterations (200) reached and the optimization hasn't converged yet.\n",
      "  % self.max_iter, ConvergenceWarning)\n"
     ]
    },
    {
     "name": "stdout",
     "output_type": "stream",
     "text": [
      "Accuracy:  [0.66616111 0.65958881 0.66093697 0.66329626 0.66863307]\n",
      "Mean Acc: 66.37%, SD: 0.33%)\n",
      "\n",
      "cluster45, shape:  (7638, 12) (7638,)\n"
     ]
    },
    {
     "name": "stderr",
     "output_type": "stream",
     "text": [
      "/opt/anaconda3/lib/python3.7/site-packages/sklearn/neural_network/_multilayer_perceptron.py:571: ConvergenceWarning: Stochastic Optimizer: Maximum iterations (200) reached and the optimization hasn't converged yet.\n",
      "  % self.max_iter, ConvergenceWarning)\n"
     ]
    },
    {
     "name": "stdout",
     "output_type": "stream",
     "text": [
      "training accuracy:  0.6459806231997905\n"
     ]
    },
    {
     "name": "stderr",
     "output_type": "stream",
     "text": [
      "/opt/anaconda3/lib/python3.7/site-packages/sklearn/neural_network/_multilayer_perceptron.py:571: ConvergenceWarning: Stochastic Optimizer: Maximum iterations (200) reached and the optimization hasn't converged yet.\n",
      "  % self.max_iter, ConvergenceWarning)\n",
      "/opt/anaconda3/lib/python3.7/site-packages/sklearn/neural_network/_multilayer_perceptron.py:571: ConvergenceWarning: Stochastic Optimizer: Maximum iterations (200) reached and the optimization hasn't converged yet.\n",
      "  % self.max_iter, ConvergenceWarning)\n",
      "/opt/anaconda3/lib/python3.7/site-packages/sklearn/neural_network/_multilayer_perceptron.py:571: ConvergenceWarning: Stochastic Optimizer: Maximum iterations (200) reached and the optimization hasn't converged yet.\n",
      "  % self.max_iter, ConvergenceWarning)\n",
      "/opt/anaconda3/lib/python3.7/site-packages/sklearn/neural_network/_multilayer_perceptron.py:571: ConvergenceWarning: Stochastic Optimizer: Maximum iterations (200) reached and the optimization hasn't converged yet.\n",
      "  % self.max_iter, ConvergenceWarning)\n"
     ]
    },
    {
     "name": "stdout",
     "output_type": "stream",
     "text": [
      "Accuracy:  [0.64725131 0.64856021 0.66230366 0.64963982 0.64112639]\n",
      "Mean Acc: 64.98%, SD: 0.69%)\n",
      "\n",
      "cluster46, shape:  (64211, 12) (64211,)\n",
      "training accuracy:  0.5721916805531763\n",
      "Accuracy:  [0.56754652 0.57436536 0.56759072 0.57218502 0.57016041]\n",
      "Mean Acc: 57.04%, SD: 0.26%)\n",
      "\n",
      "cluster47, shape:  (26760, 12) (26760,)\n"
     ]
    },
    {
     "name": "stderr",
     "output_type": "stream",
     "text": [
      "/opt/anaconda3/lib/python3.7/site-packages/sklearn/neural_network/_multilayer_perceptron.py:571: ConvergenceWarning: Stochastic Optimizer: Maximum iterations (200) reached and the optimization hasn't converged yet.\n",
      "  % self.max_iter, ConvergenceWarning)\n"
     ]
    },
    {
     "name": "stdout",
     "output_type": "stream",
     "text": [
      "training accuracy:  0.6171150971599402\n",
      "Accuracy:  [0.60519432 0.58893871 0.58893871 0.59940209 0.59118087]\n",
      "Mean Acc: 59.47%, SD: 0.65%)\n",
      "\n",
      "cluster48, shape:  (13977, 12) (13977,)\n",
      "training accuracy:  0.6132932675109107\n"
     ]
    },
    {
     "name": "stderr",
     "output_type": "stream",
     "text": [
      "/opt/anaconda3/lib/python3.7/site-packages/sklearn/neural_network/_multilayer_perceptron.py:571: ConvergenceWarning: Stochastic Optimizer: Maximum iterations (200) reached and the optimization hasn't converged yet.\n",
      "  % self.max_iter, ConvergenceWarning)\n",
      "/opt/anaconda3/lib/python3.7/site-packages/sklearn/neural_network/_multilayer_perceptron.py:571: ConvergenceWarning: Stochastic Optimizer: Maximum iterations (200) reached and the optimization hasn't converged yet.\n",
      "  % self.max_iter, ConvergenceWarning)\n"
     ]
    },
    {
     "name": "stdout",
     "output_type": "stream",
     "text": [
      "Accuracy:  [0.60264664 0.60765379 0.63005367 0.62432916 0.59928444]\n",
      "Mean Acc: 61.28%, SD: 1.22%)\n",
      "\n",
      "cluster49, shape:  (5751, 12) (5751,)\n"
     ]
    },
    {
     "name": "stderr",
     "output_type": "stream",
     "text": [
      "/opt/anaconda3/lib/python3.7/site-packages/sklearn/neural_network/_multilayer_perceptron.py:571: ConvergenceWarning: Stochastic Optimizer: Maximum iterations (200) reached and the optimization hasn't converged yet.\n",
      "  % self.max_iter, ConvergenceWarning)\n"
     ]
    },
    {
     "name": "stdout",
     "output_type": "stream",
     "text": [
      "training accuracy:  0.8396800556424969\n"
     ]
    },
    {
     "name": "stderr",
     "output_type": "stream",
     "text": [
      "/opt/anaconda3/lib/python3.7/site-packages/sklearn/neural_network/_multilayer_perceptron.py:571: ConvergenceWarning: Stochastic Optimizer: Maximum iterations (200) reached and the optimization hasn't converged yet.\n",
      "  % self.max_iter, ConvergenceWarning)\n",
      "/opt/anaconda3/lib/python3.7/site-packages/sklearn/neural_network/_multilayer_perceptron.py:571: ConvergenceWarning: Stochastic Optimizer: Maximum iterations (200) reached and the optimization hasn't converged yet.\n",
      "  % self.max_iter, ConvergenceWarning)\n",
      "/opt/anaconda3/lib/python3.7/site-packages/sklearn/neural_network/_multilayer_perceptron.py:571: ConvergenceWarning: Stochastic Optimizer: Maximum iterations (200) reached and the optimization hasn't converged yet.\n",
      "  % self.max_iter, ConvergenceWarning)\n",
      "/opt/anaconda3/lib/python3.7/site-packages/sklearn/neural_network/_multilayer_perceptron.py:571: ConvergenceWarning: Stochastic Optimizer: Maximum iterations (200) reached and the optimization hasn't converged yet.\n",
      "  % self.max_iter, ConvergenceWarning)\n"
     ]
    },
    {
     "name": "stdout",
     "output_type": "stream",
     "text": [
      "Accuracy:  [0.85925282 0.81391304 0.81043478 0.81043478 0.83304348]\n",
      "Mean Acc: 82.54%, SD: 1.89%)\n",
      "\n",
      "Overall training accuracy:  0.5922906467781562\n",
      "Overall CV accuracy:  58.54377007862186\n"
     ]
    }
   ],
   "source": [
    "dnn_train('ZVe44')"
   ]
  },
  {
   "cell_type": "markdown",
   "metadata": {},
   "source": [
    "## Decision Tree"
   ]
  },
  {
   "cell_type": "code",
   "execution_count": 5,
   "metadata": {},
   "outputs": [],
   "source": [
    "from sklearn.tree import DecisionTreeClassifier\n",
    "\n",
    "def decision_tree_train(vehicle_type):\n",
    "    \n",
    "    weight = []\n",
    "    train_avg = []\n",
    "    cv_avg = []\n",
    "    for i in range(n_clusters):\n",
    "        \n",
    "        #load data\n",
    "        sample = pd.read_csv('../../EDA/Clustering/cluster/train/' + vehicle_type + '/cluster' + str(i) + '.csv')\n",
    "        sample_= sample[sample.iloc[: , -2] ==0]\n",
    "        if len(sample_) == 0 or len(sample_) == len(sample): continue\n",
    "        feature = sample.iloc[:,1:13]\n",
    "        label = sample.iloc[:,14]\n",
    "        print('cluster' + str(i) + ', shape: ', feature.shape, label.shape)\n",
    "        weight.append(feature.shape[0])\n",
    "        \n",
    "        #decision tree\n",
    "        clf = DecisionTreeClassifier()\n",
    "        clf.fit(feature, label)\n",
    "        acc = clf.score(feature, label)\n",
    "        print('training accuracy: ', acc)\n",
    "        train_avg.append(acc)\n",
    "        \n",
    "        #cv\n",
    "        kfold = KFold(n_splits = 5, shuffle = True, random_state = None)\n",
    "        cv_result = cross_val_score(clf, feature, label, cv = kfold)\n",
    "        print(\"Accuracy: \", cv_result)\n",
    "        print(\"Mean Acc: %.2f%%, SD: %.2f%%)\\n\" % (cv_result.mean() * 100, cv_result.std() * 100))\n",
    "        cv_avg.append(cv_result.mean() * 100)\n",
    "    \n",
    "    print(\"Overall training accuracy: \", np.average(train_avg, weights = weight))\n",
    "    print(\"Overall CV accuracy: \", np.average(cv_avg, weights = weight))"
   ]
  },
  {
   "cell_type": "code",
   "execution_count": 8,
   "metadata": {},
   "outputs": [
    {
     "name": "stdout",
     "output_type": "stream",
     "text": [
      "cluster0, shape:  (59515, 12) (59515,)\n",
      "training accuracy:  1.0\n",
      "Accuracy:  [0.64294716 0.62706881 0.62337226 0.62967319 0.62958918]\n",
      "Mean Acc: 63.05%, SD: 0.66%)\n",
      "\n",
      "cluster1, shape:  (27570, 12) (27570,)\n",
      "training accuracy:  1.0\n",
      "Accuracy:  [0.75262967 0.76332971 0.76278564 0.75897715 0.75535002]\n",
      "Mean Acc: 75.86%, SD: 0.42%)\n",
      "\n",
      "cluster2, shape:  (27163, 12) (27163,)\n",
      "training accuracy:  1.0\n",
      "Accuracy:  [0.6813915  0.66869133 0.6637217  0.67525773 0.6732327 ]\n",
      "Mean Acc: 67.25%, SD: 0.60%)\n",
      "\n",
      "cluster3, shape:  (51135, 12) (51135,)\n",
      "training accuracy:  1.0\n",
      "Accuracy:  [0.62755451 0.63175907 0.63293243 0.62237215 0.63175907]\n",
      "Mean Acc: 62.93%, SD: 0.39%)\n",
      "\n",
      "cluster4, shape:  (23587, 12) (23587,)\n",
      "training accuracy:  1.0\n",
      "Accuracy:  [0.63819415 0.65684612 0.64235743 0.63854145 0.64278143]\n",
      "Mean Acc: 64.37%, SD: 0.68%)\n",
      "\n",
      "cluster5, shape:  (22661, 12) (22661,)\n",
      "training accuracy:  1.0\n",
      "Accuracy:  [0.75534966 0.76169462 0.76279788 0.76699029 0.76368049]\n",
      "Mean Acc: 76.21%, SD: 0.38%)\n",
      "\n",
      "cluster6, shape:  (98354, 12) (98354,)\n",
      "training accuracy:  1.0\n",
      "Accuracy:  [0.55070917 0.54898073 0.54293122 0.54582889 0.55221149]\n",
      "Mean Acc: 54.81%, SD: 0.34%)\n",
      "\n",
      "cluster7, shape:  (26391, 12) (26391,)\n",
      "training accuracy:  1.0\n",
      "Accuracy:  [0.65713203 0.66237211 0.66635089 0.65953013 0.65649867]\n",
      "Mean Acc: 66.04%, SD: 0.36%)\n",
      "\n",
      "cluster8, shape:  (48955, 12) (48955,)\n",
      "training accuracy:  1.0\n",
      "Accuracy:  [0.6007558  0.61025432 0.60882443 0.6169952  0.60821162]\n",
      "Mean Acc: 60.90%, SD: 0.52%)\n",
      "\n",
      "cluster9, shape:  (14655, 12) (14655,)\n",
      "training accuracy:  1.0\n",
      "Accuracy:  [0.75093825 0.73865575 0.74274991 0.7342204  0.75059707]\n",
      "Mean Acc: 74.34%, SD: 0.66%)\n",
      "\n",
      "cluster10, shape:  (16929, 12) (16929,)\n",
      "training accuracy:  1.0\n",
      "Accuracy:  [0.68015357 0.6769049  0.68753692 0.69314826 0.68685377]\n",
      "Mean Acc: 68.49%, SD: 0.57%)\n",
      "\n",
      "cluster11, shape:  (66246, 12) (66246,)\n",
      "training accuracy:  1.0\n",
      "Accuracy:  [0.63803774 0.64525625 0.64261454 0.63733112 0.64163333]\n",
      "Mean Acc: 64.10%, SD: 0.29%)\n",
      "\n",
      "cluster12, shape:  (17851, 12) (17851,)\n",
      "training accuracy:  1.0\n",
      "Accuracy:  [0.71744609 0.72969188 0.73865546 0.70812325 0.70028011]\n",
      "Mean Acc: 71.88%, SD: 1.39%)\n",
      "\n",
      "cluster13, shape:  (39628, 12) (39628,)\n",
      "training accuracy:  1.0\n",
      "Accuracy:  [0.74337623 0.74186223 0.73403987 0.74511041 0.74460568]\n",
      "Mean Acc: 74.18%, SD: 0.40%)\n",
      "\n",
      "cluster14, shape:  (19542, 12) (19542,)\n",
      "training accuracy:  1.0\n",
      "Accuracy:  [0.6247122  0.63136352 0.63126919 0.62819857 0.60465711]\n",
      "Mean Acc: 62.40%, SD: 1.00%)\n",
      "\n",
      "cluster15, shape:  (31498, 12) (31498,)\n",
      "training accuracy:  1.0\n",
      "Accuracy:  [0.63460317 0.63015873 0.63412698 0.62422607 0.63422766]\n",
      "Mean Acc: 63.15%, SD: 0.40%)\n",
      "\n",
      "cluster16, shape:  (4436, 12) (4436,)\n",
      "training accuracy:  1.0\n",
      "Accuracy:  [0.58220721 0.61443067 0.49605411 0.6065389  0.58962796]\n",
      "Mean Acc: 57.78%, SD: 4.24%)\n",
      "\n",
      "cluster17, shape:  (28909, 12) (28909,)\n",
      "training accuracy:  1.0\n",
      "Accuracy:  [0.6611899  0.67381529 0.6762366  0.67640955 0.66580176]\n",
      "Mean Acc: 67.07%, SD: 0.61%)\n",
      "\n",
      "cluster18, shape:  (11896, 12) (11896,)\n",
      "training accuracy:  1.0\n",
      "Accuracy:  [0.81134454 0.82051282 0.81168558 0.80874317 0.80033628]\n",
      "Mean Acc: 81.05%, SD: 0.65%)\n",
      "\n",
      "cluster19, shape:  (13348, 12) (13348,)\n",
      "training accuracy:  1.0\n",
      "Accuracy:  [0.82808989 0.84044944 0.83558052 0.83289622 0.82390408]\n",
      "Mean Acc: 83.22%, SD: 0.58%)\n",
      "\n",
      "cluster20, shape:  (19486, 12) (19486,)\n",
      "training accuracy:  1.0\n",
      "Accuracy:  [0.77834787 0.7616115  0.76751347 0.77033616 0.77829099]\n",
      "Mean Acc: 77.12%, SD: 0.64%)\n",
      "\n",
      "cluster21, shape:  (41572, 12) (41572,)\n",
      "training accuracy:  1.0\n",
      "Accuracy:  [0.63884546 0.64028863 0.65275439 0.64565793 0.64662016]\n",
      "Mean Acc: 64.48%, SD: 0.50%)\n",
      "\n",
      "cluster22, shape:  (73268, 12) (73268,)\n",
      "training accuracy:  1.0\n",
      "Accuracy:  [0.62399345 0.62924799 0.63047632 0.62703883 0.63133829]\n",
      "Mean Acc: 62.84%, SD: 0.26%)\n",
      "\n",
      "cluster23, shape:  (13842, 12) (13842,)\n",
      "training accuracy:  1.0\n",
      "Accuracy:  [0.80137234 0.79884435 0.7857659  0.82008671 0.8074422 ]\n",
      "Mean Acc: 80.27%, SD: 1.12%)\n",
      "\n",
      "cluster24, shape:  (10927, 12) (10927,)\n",
      "training accuracy:  1.0\n",
      "Accuracy:  [0.7136322  0.76075023 0.73729977 0.72860412 0.71716247]\n",
      "Mean Acc: 73.15%, SD: 1.69%)\n",
      "\n",
      "cluster25, shape:  (23492, 12) (23492,)\n",
      "training accuracy:  1.0\n",
      "Accuracy:  [0.64034901 0.64801021 0.63963389 0.6449553  0.64750958]\n",
      "Mean Acc: 64.41%, SD: 0.35%)\n",
      "\n",
      "cluster26, shape:  (18738, 12) (18738,)\n",
      "training accuracy:  1.0\n",
      "Accuracy:  [0.59498399 0.60218783 0.59418356 0.57806245 0.58340005]\n",
      "Mean Acc: 59.06%, SD: 0.87%)\n",
      "\n",
      "cluster27, shape:  (17491, 12) (17491,)\n",
      "training accuracy:  1.0\n",
      "Accuracy:  [0.72877965 0.73327616 0.73184677 0.71183533 0.72155517]\n",
      "Mean Acc: 72.55%, SD: 0.79%)\n",
      "\n",
      "cluster28, shape:  (7079, 12) (7079,)\n",
      "training accuracy:  1.0\n",
      "Accuracy:  [0.79731638 0.81567797 0.77118644 0.77542373 0.79151943]\n",
      "Mean Acc: 79.02%, SD: 1.60%)\n",
      "\n",
      "cluster29, shape:  (56138, 12) (56138,)\n",
      "training accuracy:  1.0\n",
      "Accuracy:  [0.5764161  0.57695048 0.58826149 0.58537454 0.57824886]\n",
      "Mean Acc: 58.11%, SD: 0.48%)\n",
      "\n",
      "cluster30, shape:  (15713, 12) (15713,)\n",
      "training accuracy:  1.0\n",
      "Accuracy:  [0.76423799 0.75469297 0.75564747 0.74793125 0.75684278]\n",
      "Mean Acc: 75.59%, SD: 0.52%)\n",
      "\n",
      "cluster31, shape:  (28559, 12) (28559,)\n",
      "training accuracy:  1.0\n",
      "Accuracy:  [0.72163866 0.71778711 0.72496499 0.73371849 0.73489757]\n",
      "Mean Acc: 72.66%, SD: 0.67%)\n",
      "\n",
      "cluster32, shape:  (6426, 12) (6426,)\n",
      "training accuracy:  1.0\n",
      "Accuracy:  [0.72472784 0.71206226 0.70116732 0.71284047 0.69805447]\n",
      "Mean Acc: 70.98%, SD: 0.95%)\n",
      "\n",
      "cluster33, shape:  (40977, 12) (40977,)\n",
      "training accuracy:  1.0\n",
      "Accuracy:  [0.67752562 0.67349927 0.67004271 0.67675412 0.67321538]\n",
      "Mean Acc: 67.42%, SD: 0.27%)\n",
      "\n",
      "cluster34, shape:  (7098, 12) (7098,)\n",
      "training accuracy:  1.0\n",
      "Accuracy:  [0.67605634 0.68098592 0.69295775 0.71529246 0.68146582]\n",
      "Mean Acc: 68.94%, SD: 1.41%)\n",
      "\n",
      "cluster35, shape:  (4986, 12) (4986,)\n",
      "training accuracy:  1.0\n",
      "Accuracy:  [0.77154309 0.77331996 0.77031093 0.73721163 0.76930792]\n",
      "Mean Acc: 76.43%, SD: 1.36%)\n",
      "\n",
      "cluster36, shape:  (36872, 12) (36872,)\n",
      "training accuracy:  1.0\n",
      "Accuracy:  [0.59552542 0.58861017 0.57716301 0.58082452 0.60482777]\n",
      "Mean Acc: 58.94%, SD: 1.00%)\n",
      "\n",
      "cluster37, shape:  (20737, 12) (20737,)\n",
      "training accuracy:  1.0\n",
      "Accuracy:  [0.64320154 0.66200579 0.6563781  0.654449   0.65059079]\n",
      "Mean Acc: 65.33%, SD: 0.63%)\n",
      "\n",
      "cluster38, shape:  (9386, 12) (9386,)\n",
      "training accuracy:  1.0\n",
      "Accuracy:  [0.68104366 0.68034097 0.69419286 0.69952051 0.70378263]\n",
      "Mean Acc: 69.18%, SD: 0.95%)\n",
      "\n",
      "cluster39, shape:  (7784, 12) (7784,)\n",
      "training accuracy:  1.0\n",
      "Accuracy:  [0.82273603 0.8150289  0.82466281 0.82915864 0.8155527 ]\n",
      "Mean Acc: 82.14%, SD: 0.54%)\n",
      "\n",
      "cluster40, shape:  (67174, 12) (67174,)\n",
      "training accuracy:  1.0\n",
      "Accuracy:  [0.6419799  0.64160774 0.64934872 0.64488277 0.64254876]\n",
      "Mean Acc: 64.41%, SD: 0.29%)\n",
      "\n",
      "cluster41, shape:  (8837, 12) (8837,)\n",
      "training accuracy:  1.0\n",
      "Accuracy:  [0.75678733 0.760181   0.76513865 0.75947934 0.76287493]\n",
      "Mean Acc: 76.09%, SD: 0.29%)\n",
      "\n",
      "cluster42, shape:  (28772, 12) (28772,)\n",
      "training accuracy:  1.0\n",
      "Accuracy:  [0.65351868 0.63440487 0.64077164 0.63156065 0.63694821]\n",
      "Mean Acc: 63.94%, SD: 0.77%)\n",
      "\n",
      "cluster43, shape:  (6006, 12) (6006,)\n",
      "training accuracy:  1.0\n",
      "Accuracy:  [0.75041597 0.78601166 0.77601998 0.73688593 0.75437136]\n",
      "Mean Acc: 76.07%, SD: 1.78%)\n",
      "\n",
      "cluster44, shape:  (29669, 12) (29669,)\n",
      "training accuracy:  1.0\n",
      "Accuracy:  [0.74148972 0.73862487 0.74738793 0.74553421 0.7485252 ]\n",
      "Mean Acc: 74.43%, SD: 0.37%)\n",
      "\n",
      "cluster45, shape:  (7638, 12) (7638,)\n",
      "training accuracy:  1.0\n",
      "Accuracy:  [0.76701571 0.7565445  0.78926702 0.76882777 0.78781925]\n",
      "Mean Acc: 77.39%, SD: 1.27%)\n",
      "\n",
      "cluster46, shape:  (64211, 12) (64211,)\n",
      "training accuracy:  1.0\n",
      "Accuracy:  [0.61839134 0.62116493 0.62116493 0.61921819 0.62085345]\n",
      "Mean Acc: 62.02%, SD: 0.11%)\n",
      "\n",
      "cluster47, shape:  (26760, 12) (26760,)\n",
      "training accuracy:  1.0\n",
      "Accuracy:  [0.64200299 0.6558296  0.64798206 0.65863229 0.64555306]\n",
      "Mean Acc: 65.00%, SD: 0.63%)\n",
      "\n",
      "cluster48, shape:  (13977, 12) (13977,)\n",
      "training accuracy:  1.0\n",
      "Accuracy:  [0.70457797 0.70922747 0.69767442 0.71198569 0.72772809]\n",
      "Mean Acc: 71.02%, SD: 1.00%)\n",
      "\n",
      "cluster49, shape:  (5751, 12) (5751,)\n",
      "training accuracy:  1.0\n",
      "Accuracy:  [0.92354474 0.93913043 0.93565217 0.9373913  0.93304348]\n",
      "Mean Acc: 93.38%, SD: 0.55%)\n",
      "\n",
      "Overall training accuracy:  1.0\n",
      "Overall CV accuracy:  65.98027960167605\n"
     ]
    }
   ],
   "source": [
    "decision_tree_train('ZVe44')"
   ]
  },
  {
   "cell_type": "markdown",
   "metadata": {},
   "source": [
    "## Random Forest"
   ]
  },
  {
   "cell_type": "code",
   "execution_count": 6,
   "metadata": {},
   "outputs": [],
   "source": [
    "from sklearn.tree import ExtraTreeClassifier\n",
    "\n",
    "def extra_tree_train(vehicle_type):\n",
    "    \n",
    "    weight = []\n",
    "    train_avg = []\n",
    "    cv_avg = []\n",
    "    for i in range(n_clusters):\n",
    "        \n",
    "        #load data\n",
    "        sample = pd.read_csv('../../EDA/Clustering/cluster/train/' + vehicle_type + '/cluster' + str(i) + '.csv')\n",
    "        sample_= sample[sample.iloc[: , -2] ==0]\n",
    "        if len(sample_) == 0 or len(sample_) == len(sample): continue\n",
    "        feature = sample.iloc[:,1:13]\n",
    "        label = sample.iloc[:,14]\n",
    "        print('cluster' + str(i) + ', shape: ', feature.shape, label.shape)\n",
    "        weight.append(feature.shape[0])\n",
    "        \n",
    "        #random forest\n",
    "        clf = ExtraTreeClassifier()\n",
    "        clf.fit(feature, label)\n",
    "        acc = clf.score(feature, label)\n",
    "        print('training accuracy: ', acc)\n",
    "        train_avg.append(acc)\n",
    "        \n",
    "        #cv\n",
    "        kfold = KFold(n_splits = 5, shuffle = True, random_state = None)\n",
    "        cv_result = cross_val_score(clf, feature, label, cv = kfold)\n",
    "        print(\"Accuracy: \", cv_result)\n",
    "        print(\"Mean Acc: %.2f%%, SD: %.2f%%)\\n\" % (cv_result.mean() * 100, cv_result.std() * 100))\n",
    "        cv_avg.append(cv_result.mean() * 100)\n",
    "    \n",
    "    print(\"Overall training accuracy: \", np.average(train_avg, weights = weight))\n",
    "    print(\"Overall CV accuracy: \", np.average(cv_avg, weights = weight))"
   ]
  },
  {
   "cell_type": "code",
   "execution_count": 9,
   "metadata": {},
   "outputs": [
    {
     "name": "stdout",
     "output_type": "stream",
     "text": [
      "cluster0, shape:  (59515, 12) (59515,)\n",
      "training accuracy:  1.0\n",
      "Accuracy:  [0.56859615 0.55565824 0.56061497 0.5513736  0.55918676]\n",
      "Mean Acc: 55.91%, SD: 0.57%)\n",
      "\n",
      "cluster1, shape:  (27570, 12) (27570,)\n",
      "training accuracy:  1.0\n",
      "Accuracy:  [0.69151251 0.68897352 0.69151251 0.69822271 0.68171926]\n",
      "Mean Acc: 69.04%, SD: 0.53%)\n",
      "\n",
      "cluster2, shape:  (27163, 12) (27163,)\n",
      "training accuracy:  1.0\n",
      "Accuracy:  [0.6051905  0.6228603  0.61917909 0.6283137  0.62242268]\n",
      "Mean Acc: 61.96%, SD: 0.78%)\n",
      "\n",
      "cluster3, shape:  (51135, 12) (51135,)\n",
      "training accuracy:  1.0\n",
      "Accuracy:  [0.56253056 0.56957074 0.55842378 0.5732864  0.57406864]\n",
      "Mean Acc: 56.76%, SD: 0.61%)\n",
      "\n",
      "cluster4, shape:  (23587, 12) (23587,)\n",
      "training accuracy:  1.0\n",
      "Accuracy:  [0.5930479  0.57799915 0.57790969 0.57684969 0.60398558]\n",
      "Mean Acc: 58.60%, SD: 1.08%)\n",
      "\n",
      "cluster5, shape:  (22661, 12) (22661,)\n",
      "training accuracy:  1.0\n",
      "Accuracy:  [0.683212   0.68667255 0.68534863 0.67872904 0.66240071]\n",
      "Mean Acc: 67.93%, SD: 0.89%)\n",
      "\n",
      "cluster6, shape:  (98354, 12) (98354,)\n",
      "training accuracy:  1.0\n",
      "Accuracy:  [0.53317066 0.53581414 0.527477   0.53357735 0.52653787]\n",
      "Mean Acc: 53.13%, SD: 0.36%)\n",
      "\n",
      "cluster7, shape:  (26391, 12) (26391,)\n",
      "training accuracy:  1.0\n",
      "Accuracy:  [0.5997348  0.5928382  0.60647973 0.59662751 0.59397499]\n",
      "Mean Acc: 59.79%, SD: 0.49%)\n",
      "\n",
      "cluster8, shape:  (48955, 12) (48955,)\n",
      "training accuracy:  1.0\n",
      "Accuracy:  [0.55959555 0.55745072 0.5476458  0.55254826 0.55959555]\n",
      "Mean Acc: 55.54%, SD: 0.46%)\n",
      "\n",
      "cluster9, shape:  (14655, 12) (14655,)\n",
      "training accuracy:  1.0\n",
      "Accuracy:  [0.61480723 0.64551348 0.63664278 0.61173661 0.62572501]\n",
      "Mean Acc: 62.69%, SD: 1.28%)\n",
      "\n",
      "cluster10, shape:  (16929, 12) (16929,)\n",
      "training accuracy:  1.0\n",
      "Accuracy:  [0.66597755 0.62640284 0.61901949 0.62847017 0.6070901 ]\n",
      "Mean Acc: 62.94%, SD: 1.98%)\n",
      "\n",
      "cluster11, shape:  (66246, 12) (66246,)\n",
      "training accuracy:  1.0\n",
      "Accuracy:  [0.56241509 0.56102347 0.56985433 0.56230659 0.56970337]\n",
      "Mean Acc: 56.51%, SD: 0.39%)\n",
      "\n",
      "cluster12, shape:  (17851, 12) (17851,)\n",
      "training accuracy:  1.0\n",
      "Accuracy:  [0.61075329 0.6140056  0.61764706 0.62521008 0.64537815]\n",
      "Mean Acc: 62.26%, SD: 1.24%)\n",
      "\n",
      "cluster13, shape:  (39628, 12) (39628,)\n",
      "training accuracy:  1.0\n",
      "Accuracy:  [0.60269997 0.6114055  0.61960636 0.61678233 0.59962145]\n",
      "Mean Acc: 61.00%, SD: 0.78%)\n",
      "\n",
      "cluster14, shape:  (19542, 12) (19542,)\n",
      "training accuracy:  1.0\n",
      "Accuracy:  [0.59887439 0.60654899 0.60772774 0.60388946 0.60951894]\n",
      "Mean Acc: 60.53%, SD: 0.37%)\n",
      "\n",
      "cluster15, shape:  (31498, 12) (31498,)\n",
      "training accuracy:  1.0\n",
      "Accuracy:  [0.56984127 0.58460317 0.57428571 0.58898238 0.55246865]\n",
      "Mean Acc: 57.40%, SD: 1.28%)\n",
      "\n",
      "cluster16, shape:  (4436, 12) (4436,)\n",
      "training accuracy:  1.0\n",
      "Accuracy:  [0.55405405 0.55693348 0.54002255 0.54453213 0.56144307]\n",
      "Mean Acc: 55.14%, SD: 0.79%)\n",
      "\n",
      "cluster17, shape:  (28909, 12) (28909,)\n",
      "training accuracy:  1.0\n",
      "Accuracy:  [0.57592529 0.59477689 0.59702525 0.59028018 0.58484691]\n",
      "Mean Acc: 58.86%, SD: 0.76%)\n",
      "\n",
      "cluster18, shape:  (11896, 12) (11896,)\n",
      "training accuracy:  1.0\n",
      "Accuracy:  [0.76428571 0.76712905 0.7309794  0.73980664 0.75998319]\n",
      "Mean Acc: 75.24%, SD: 1.44%)\n",
      "\n",
      "cluster19, shape:  (13348, 12) (13348,)\n",
      "training accuracy:  1.0\n",
      "Accuracy:  [0.77378277 0.76217228 0.77790262 0.76283252 0.76657924]\n",
      "Mean Acc: 76.87%, SD: 0.62%)\n",
      "\n",
      "cluster20, shape:  (19486, 12) (19486,)\n",
      "training accuracy:  1.0\n",
      "Accuracy:  [0.6926629  0.71054657 0.70361817 0.71567873 0.7149089 ]\n",
      "Mean Acc: 70.75%, SD: 0.86%)\n",
      "\n",
      "cluster21, shape:  (41572, 12) (41572,)\n",
      "training accuracy:  1.0\n",
      "Accuracy:  [0.57089597 0.59001804 0.58912677 0.57998557 0.6010344 ]\n",
      "Mean Acc: 58.62%, SD: 1.02%)\n",
      "\n",
      "cluster22, shape:  (73268, 12) (73268,)\n",
      "training accuracy:  1.0\n",
      "Accuracy:  [0.5671489  0.56441927 0.5527501  0.59011806 0.56200096]\n",
      "Mean Acc: 56.73%, SD: 1.24%)\n",
      "\n",
      "cluster23, shape:  (13842, 12) (13842,)\n",
      "training accuracy:  1.0\n",
      "Accuracy:  [0.70855905 0.71758758 0.72723988 0.71784682 0.69291908]\n",
      "Mean Acc: 71.28%, SD: 1.16%)\n",
      "\n",
      "cluster24, shape:  (10927, 12) (10927,)\n",
      "training accuracy:  1.0\n",
      "Accuracy:  [0.63860933 0.65645014 0.64210526 0.60686499 0.60961098]\n",
      "Mean Acc: 63.07%, SD: 1.93%)\n",
      "\n",
      "cluster25, shape:  (23492, 12) (23492,)\n",
      "training accuracy:  1.0\n",
      "Accuracy:  [0.58033624 0.59629708 0.59748829 0.59280545 0.58833546]\n",
      "Mean Acc: 59.11%, SD: 0.62%)\n",
      "\n",
      "cluster26, shape:  (18738, 12) (18738,)\n",
      "training accuracy:  1.0\n",
      "Accuracy:  [0.56643543 0.5594984  0.55549626 0.57859621 0.56445156]\n",
      "Mean Acc: 56.49%, SD: 0.78%)\n",
      "\n",
      "cluster27, shape:  (17491, 12) (17491,)\n",
      "training accuracy:  1.0\n",
      "Accuracy:  [0.65561589 0.62321326 0.60548885 0.60577473 0.63893654]\n",
      "Mean Acc: 62.58%, SD: 1.94%)\n",
      "\n",
      "cluster28, shape:  (7079, 12) (7079,)\n",
      "training accuracy:  1.0\n",
      "Accuracy:  [0.69491525 0.70833333 0.71257062 0.73234463 0.73003534]\n",
      "Mean Acc: 71.56%, SD: 1.40%)\n",
      "\n",
      "cluster29, shape:  (56138, 12) (56138,)\n",
      "training accuracy:  1.0\n",
      "Accuracy:  [0.55094407 0.55557535 0.54212683 0.56417565 0.54778659]\n",
      "Mean Acc: 55.21%, SD: 0.74%)\n",
      "\n",
      "cluster30, shape:  (15713, 12) (15713,)\n",
      "training accuracy:  1.0\n",
      "Accuracy:  [0.68692332 0.68533248 0.70601336 0.68650541 0.69700827]\n",
      "Mean Acc: 69.24%, SD: 0.80%)\n",
      "\n",
      "cluster31, shape:  (28559, 12) (28559,)\n",
      "training accuracy:  1.0\n",
      "Accuracy:  [0.59593838 0.61081933 0.60434174 0.60854342 0.6142532 ]\n",
      "Mean Acc: 60.68%, SD: 0.63%)\n",
      "\n",
      "cluster32, shape:  (6426, 12) (6426,)\n",
      "training accuracy:  1.0\n",
      "Accuracy:  [0.66951788 0.64280156 0.6311284  0.65136187 0.65914397]\n",
      "Mean Acc: 65.08%, SD: 1.32%)\n",
      "\n",
      "cluster33, shape:  (40977, 12) (40977,)\n",
      "training accuracy:  1.0\n",
      "Accuracy:  [0.58516349 0.58870181 0.59646126 0.61159243 0.6200122 ]\n",
      "Mean Acc: 60.04%, SD: 1.34%)\n",
      "\n",
      "cluster34, shape:  (7098, 12) (7098,)\n",
      "training accuracy:  1.0\n",
      "Accuracy:  [0.65422535 0.6471831  0.65070423 0.63002114 0.67300916]\n",
      "Mean Acc: 65.10%, SD: 1.38%)\n",
      "\n",
      "cluster35, shape:  (4986, 12) (4986,)\n",
      "training accuracy:  1.0\n",
      "Accuracy:  [0.6743487  0.63691073 0.70712136 0.68204614 0.70511535]\n",
      "Mean Acc: 68.11%, SD: 2.55%)\n",
      "\n",
      "cluster36, shape:  (36872, 12) (36872,)\n",
      "training accuracy:  1.0\n",
      "Accuracy:  [0.56583051 0.56745763 0.57295905 0.5595335  0.57431516]\n",
      "Mean Acc: 56.80%, SD: 0.53%)\n",
      "\n",
      "cluster37, shape:  (20737, 12) (20737,)\n",
      "training accuracy:  1.0\n",
      "Accuracy:  [0.59402122 0.59402122 0.60091633 0.59006511 0.58572462]\n",
      "Mean Acc: 59.29%, SD: 0.50%)\n",
      "\n",
      "cluster38, shape:  (9386, 12) (9386,)\n",
      "training accuracy:  1.0\n",
      "Accuracy:  [0.67465389 0.64997336 0.63558871 0.63665424 0.63985083]\n",
      "Mean Acc: 64.73%, SD: 1.46%)\n",
      "\n",
      "cluster39, shape:  (7784, 12) (7784,)\n",
      "training accuracy:  1.0\n",
      "Accuracy:  [0.75401413 0.7495183  0.78805395 0.75658317 0.75642674]\n",
      "Mean Acc: 76.09%, SD: 1.38%)\n",
      "\n",
      "cluster40, shape:  (67174, 12) (67174,)\n",
      "training accuracy:  1.0\n",
      "Accuracy:  [0.56442129 0.59017492 0.58957946 0.56888723 0.58076522]\n",
      "Mean Acc: 57.88%, SD: 1.05%)\n",
      "\n",
      "cluster41, shape:  (8837, 12) (8837,)\n",
      "training accuracy:  1.0\n",
      "Accuracy:  [0.66289593 0.67477376 0.68590832 0.68477646 0.68081494]\n",
      "Mean Acc: 67.78%, SD: 0.84%)\n",
      "\n",
      "cluster42, shape:  (28772, 12) (28772,)\n",
      "training accuracy:  1.0\n",
      "Accuracy:  [0.581755   0.57602085 0.57629475 0.56708377 0.57038582]\n",
      "Mean Acc: 57.43%, SD: 0.51%)\n",
      "\n",
      "cluster43, shape:  (6006, 12) (6006,)\n",
      "training accuracy:  1.0\n",
      "Accuracy:  [0.71381032 0.70358035 0.70940883 0.67943381 0.70358035]\n",
      "Mean Acc: 70.20%, SD: 1.19%)\n",
      "\n",
      "cluster44, shape:  (29669, 12) (29669,)\n",
      "training accuracy:  1.0\n",
      "Accuracy:  [0.66953151 0.66734075 0.6644759  0.69194473 0.67301534]\n",
      "Mean Acc: 67.33%, SD: 0.97%)\n",
      "\n",
      "cluster45, shape:  (7638, 12) (7638,)\n",
      "training accuracy:  1.0\n",
      "Accuracy:  [0.66099476 0.68717277 0.66099476 0.6719057  0.6719057 ]\n",
      "Mean Acc: 67.06%, SD: 0.96%)\n",
      "\n",
      "cluster46, shape:  (64211, 12) (64211,)\n",
      "training accuracy:  1.0\n",
      "Accuracy:  [0.56661216 0.5589472  0.55520947 0.5671235  0.56284068]\n",
      "Mean Acc: 56.21%, SD: 0.46%)\n",
      "\n",
      "cluster47, shape:  (26760, 12) (26760,)\n",
      "training accuracy:  1.0\n",
      "Accuracy:  [0.60071001 0.60407324 0.61210762 0.61173393 0.59753363]\n",
      "Mean Acc: 60.52%, SD: 0.58%)\n",
      "\n",
      "cluster48, shape:  (13977, 12) (13977,)\n",
      "training accuracy:  1.0\n",
      "Accuracy:  [0.65164521 0.67346209 0.67584973 0.64722719 0.65259392]\n",
      "Mean Acc: 66.02%, SD: 1.20%)\n",
      "\n",
      "cluster49, shape:  (5751, 12) (5751,)\n",
      "training accuracy:  1.0\n",
      "Accuracy:  [0.90269331 0.87043478 0.87130435 0.86086957 0.87130435]\n",
      "Mean Acc: 87.53%, SD: 1.42%)\n",
      "\n",
      "Overall training accuracy:  1.0\n",
      "Overall CV accuracy:  59.81206229700571\n"
     ]
    }
   ],
   "source": [
    "extra_tree_train('ZVe44')"
   ]
  },
  {
   "cell_type": "markdown",
   "metadata": {},
   "source": [
    "## GBDT"
   ]
  },
  {
   "cell_type": "code",
   "execution_count": 7,
   "metadata": {},
   "outputs": [],
   "source": [
    "import xgboost as xgb\n",
    "\n",
    "def gbdt_train(vehicle_type):\n",
    "    \n",
    "    weight = []\n",
    "    train_avg = []\n",
    "    cv_avg = []\n",
    "    for i in range(n_clusters):\n",
    "        \n",
    "        #load data\n",
    "        sample = pd.read_csv('../../EDA/Clustering/cluster/train/' + vehicle_type + '/cluster' + str(i) + '.csv')\n",
    "        sample_= sample[sample.iloc[: , -2] ==0]\n",
    "        if len(sample_) == 0 or len(sample_) == len(sample): continue\n",
    "        feature = sample.iloc[:,1:13]\n",
    "        label = sample.iloc[:,14]\n",
    "        print('cluster' + str(i) + ', shape: ', feature.shape, label.shape)\n",
    "        weight.append(feature.shape[0])\n",
    "        \n",
    "        #xgboost\n",
    "        params = {'booster': 'gbtree', 'eta': 0.05, 'max_depth': 10}\n",
    "        bst = xgb.XGBClassifier(**params)\n",
    "        bst.fit(feature, label)\n",
    "        acc = bst.score(feature, label)\n",
    "        print(\"training accuracy: \", acc)\n",
    "        train_avg.append(acc)\n",
    "        \n",
    "        #cv\n",
    "        kfold = KFold(n_splits = 5, shuffle = True, random_state = None)\n",
    "        cv_result = cross_val_score(bst, feature, label, cv = kfold)\n",
    "        print(\"Accuracy: \", cv_result)\n",
    "        print(\"Mean Acc: %.2f%%, SD: %.2f%%)\\n\" % (cv_result.mean() * 100, cv_result.std() * 100))\n",
    "        cv_avg.append(cv_result.mean() * 100)\n",
    "    \n",
    "    print(\"Overall training accuracy: \", np.average(train_avg, weights = weight))\n",
    "    print(\"Overall CV accuracy: \", np.average(cv_avg, weights = weight))"
   ]
  },
  {
   "cell_type": "code",
   "execution_count": 12,
   "metadata": {},
   "outputs": [
    {
     "name": "stdout",
     "output_type": "stream",
     "text": [
      "cluster0, shape:  (59515, 12) (59515,)\n",
      "training accuracy:  0.804452658993531\n",
      "Accuracy:  [0.67991263 0.68654961 0.68722171 0.68100479 0.68419726]\n",
      "Mean Acc: 68.38%, SD: 0.29%)\n",
      "\n",
      "cluster1, shape:  (27570, 12) (27570,)\n",
      "training accuracy:  0.934639100471527\n",
      "Accuracy:  [0.81193326 0.82245194 0.83079434 0.82081973 0.81628582]\n",
      "Mean Acc: 82.05%, SD: 0.63%)\n",
      "\n",
      "cluster2, shape:  (27163, 12) (27163,)\n",
      "training accuracy:  0.8887825350660825\n",
      "Accuracy:  [0.72814283 0.73881833 0.73550525 0.73472018 0.73011782]\n",
      "Mean Acc: 73.35%, SD: 0.38%)\n",
      "\n",
      "cluster3, shape:  (51135, 12) (51135,)\n",
      "training accuracy:  0.8174049085753398\n",
      "Accuracy:  [0.69893419 0.70333431 0.70098758 0.70392099 0.70998338]\n",
      "Mean Acc: 70.34%, SD: 0.37%)\n",
      "\n",
      "cluster4, shape:  (23587, 12) (23587,)\n",
      "training accuracy:  0.8737440115317759\n",
      "Accuracy:  [0.69605765 0.6907588  0.69514522 0.69556922 0.7006572 ]\n",
      "Mean Acc: 69.56%, SD: 0.31%)\n",
      "\n",
      "cluster5, shape:  (22661, 12) (22661,)\n",
      "training accuracy:  0.9145227483341424\n",
      "Accuracy:  [0.79792632 0.80428067 0.81222418 0.809797   0.79699912]\n",
      "Mean Acc: 80.42%, SD: 0.61%)\n",
      "\n",
      "cluster6, shape:  (98354, 12) (98354,)\n",
      "training accuracy:  0.6817007950871342\n",
      "Accuracy:  [0.59707183 0.60942504 0.6005287  0.60423974 0.60147433]\n",
      "Mean Acc: 60.25%, SD: 0.41%)\n",
      "\n",
      "cluster7, shape:  (26391, 12) (26391,)\n",
      "training accuracy:  0.8788602174983896\n",
      "Accuracy:  [0.72778935 0.73171656 0.73342175 0.72508526 0.72944297]\n",
      "Mean Acc: 72.95%, SD: 0.29%)\n",
      "\n",
      "cluster8, shape:  (48955, 12) (48955,)\n",
      "training accuracy:  0.8029823307118783\n",
      "Accuracy:  [0.64569503 0.65580635 0.64671637 0.65478501 0.64722705]\n",
      "Mean Acc: 65.00%, SD: 0.43%)\n",
      "\n",
      "cluster9, shape:  (14655, 12) (14655,)\n",
      "training accuracy:  0.9052200614124872\n",
      "Accuracy:  [0.78573866 0.79460935 0.78335039 0.79733879 0.79222108]\n",
      "Mean Acc: 79.07%, SD: 0.53%)\n",
      "\n",
      "cluster10, shape:  (16929, 12) (16929,)\n",
      "training accuracy:  0.8813869691062673\n",
      "Accuracy:  [0.75516834 0.753101   0.75989368 0.74660366 0.75155096]\n",
      "Mean Acc: 75.33%, SD: 0.44%)\n",
      "\n",
      "cluster11, shape:  (66246, 12) (66246,)\n",
      "training accuracy:  0.7946593001841621\n",
      "Accuracy:  [0.70596226 0.70541173 0.69771303 0.70624198 0.70563816]\n",
      "Mean Acc: 70.42%, SD: 0.33%)\n",
      "\n",
      "cluster12, shape:  (17851, 12) (17851,)\n",
      "training accuracy:  0.9330009523276007\n",
      "Accuracy:  [0.80341641 0.79355742 0.79411765 0.78767507 0.80672269]\n",
      "Mean Acc: 79.71%, SD: 0.70%)\n",
      "\n",
      "cluster13, shape:  (39628, 12) (39628,)\n",
      "training accuracy:  0.8812455839305542\n",
      "Accuracy:  [0.79649256 0.79258138 0.78892253 0.77867508 0.78561514]\n",
      "Mean Acc: 78.85%, SD: 0.61%)\n",
      "\n",
      "cluster14, shape:  (19542, 12) (19542,)\n",
      "training accuracy:  0.9038992938286767\n",
      "Accuracy:  [0.70094653 0.70529547 0.70291709 0.7011259  0.69498465]\n",
      "Mean Acc: 70.11%, SD: 0.34%)\n",
      "\n",
      "cluster15, shape:  (31498, 12) (31498,)\n",
      "training accuracy:  0.8553558956124199\n",
      "Accuracy:  [0.68444444 0.68539683 0.69698413 0.68106049 0.68185426]\n",
      "Mean Acc: 68.59%, SD: 0.57%)\n",
      "\n",
      "cluster16, shape:  (4436, 12) (4436,)\n",
      "training accuracy:  0.978809738503156\n",
      "Accuracy:  [0.64301802 0.62006764 0.6313416  0.62795941 0.632469  ]\n",
      "Mean Acc: 63.10%, SD: 0.74%)\n",
      "\n",
      "cluster17, shape:  (28909, 12) (28909,)\n",
      "training accuracy:  0.8688297761942647\n",
      "Accuracy:  [0.73348322 0.74213075 0.74351435 0.73348322 0.7265179 ]\n",
      "Mean Acc: 73.58%, SD: 0.63%)\n",
      "\n",
      "cluster18, shape:  (11896, 12) (11896,)\n",
      "training accuracy:  0.9834398117014123\n",
      "Accuracy:  [0.86554622 0.86843211 0.85834384 0.84993695 0.84825557]\n",
      "Mean Acc: 85.81%, SD: 0.81%)\n",
      "\n",
      "cluster19, shape:  (13348, 12) (13348,)\n",
      "training accuracy:  0.9801468384776746\n",
      "Accuracy:  [0.88501873 0.89438202 0.88614232 0.87673286 0.88722368]\n",
      "Mean Acc: 88.59%, SD: 0.56%)\n",
      "\n",
      "cluster20, shape:  (19486, 12) (19486,)\n",
      "training accuracy:  0.9577645489069075\n",
      "Accuracy:  [0.82195998 0.83654093 0.818835   0.82858609 0.83500128]\n",
      "Mean Acc: 82.82%, SD: 0.70%)\n",
      "\n",
      "cluster21, shape:  (41572, 12) (41572,)\n",
      "training accuracy:  0.8393870874627153\n",
      "Accuracy:  [0.68695129 0.69380637 0.70531633 0.70315131 0.68607169]\n",
      "Mean Acc: 69.51%, SD: 0.80%)\n",
      "\n",
      "cluster22, shape:  (73268, 12) (73268,)\n",
      "training accuracy:  0.7707048097395862\n",
      "Accuracy:  [0.67960966 0.68254402 0.67988263 0.68095271 0.67262677]\n",
      "Mean Acc: 67.91%, SD: 0.34%)\n",
      "\n",
      "cluster23, shape:  (13842, 12) (13842,)\n",
      "training accuracy:  0.9722583441699176\n",
      "Accuracy:  [0.86096064 0.85807151 0.86452312 0.85513006 0.86054913]\n",
      "Mean Acc: 85.98%, SD: 0.31%)\n",
      "\n",
      "cluster24, shape:  (10927, 12) (10927,)\n",
      "training accuracy:  0.9581769927702023\n",
      "Accuracy:  [0.79734675 0.79597438 0.79542334 0.78947368 0.80183066]\n",
      "Mean Acc: 79.60%, SD: 0.40%)\n",
      "\n",
      "cluster25, shape:  (23492, 12) (23492,)\n",
      "training accuracy:  0.8892388898348373\n",
      "Accuracy:  [0.70759736 0.71036391 0.69689229 0.69263516 0.70838655]\n",
      "Mean Acc: 70.32%, SD: 0.71%)\n",
      "\n",
      "cluster26, shape:  (18738, 12) (18738,)\n",
      "training accuracy:  0.8557476785142492\n",
      "Accuracy:  [0.63607257 0.636873   0.64114194 0.63864425 0.6285028 ]\n",
      "Mean Acc: 63.62%, SD: 0.42%)\n",
      "\n",
      "cluster27, shape:  (17491, 12) (17491,)\n",
      "training accuracy:  0.9181864959121834\n",
      "Accuracy:  [0.76164618 0.77101201 0.7647227  0.77301315 0.7761578 ]\n",
      "Mean Acc: 76.93%, SD: 0.54%)\n",
      "\n",
      "cluster28, shape:  (7079, 12) (7079,)\n",
      "training accuracy:  0.970758581720582\n",
      "Accuracy:  [0.87641243 0.83968927 0.87853107 0.83757062 0.87561837]\n",
      "Mean Acc: 86.16%, SD: 1.88%)\n",
      "\n",
      "cluster29, shape:  (56138, 12) (56138,)\n",
      "training accuracy:  0.7876126687805052\n",
      "Accuracy:  [0.64018525 0.63359458 0.64828999 0.64148927 0.64193462]\n",
      "Mean Acc: 64.11%, SD: 0.47%)\n",
      "\n",
      "cluster30, shape:  (15713, 12) (15713,)\n",
      "training accuracy:  0.9471774963406097\n",
      "Accuracy:  [0.82150811 0.8138721  0.81100859 0.81190325 0.8214513 ]\n",
      "Mean Acc: 81.59%, SD: 0.46%)\n",
      "\n",
      "cluster31, shape:  (28559, 12) (28559,)\n",
      "training accuracy:  0.8894919289891102\n",
      "Accuracy:  [0.78501401 0.78186275 0.77713585 0.78343838 0.77797233]\n",
      "Mean Acc: 78.11%, SD: 0.31%)\n",
      "\n",
      "cluster32, shape:  (6426, 12) (6426,)\n",
      "training accuracy:  0.9665421724245253\n",
      "Accuracy:  [0.76671851 0.7688716  0.74319066 0.78287938 0.76575875]\n",
      "Mean Acc: 76.55%, SD: 1.27%)\n",
      "\n",
      "cluster33, shape:  (40977, 12) (40977,)\n",
      "training accuracy:  0.8421065475754692\n",
      "Accuracy:  [0.73987311 0.73279649 0.7424039  0.73642465 0.74203783]\n",
      "Mean Acc: 73.87%, SD: 0.36%)\n",
      "\n",
      "cluster34, shape:  (7098, 12) (7098,)\n",
      "training accuracy:  0.9705550859397013\n",
      "Accuracy:  [0.76901408 0.74084507 0.74225352 0.76603242 0.74630021]\n",
      "Mean Acc: 75.29%, SD: 1.21%)\n",
      "\n",
      "cluster35, shape:  (4986, 12) (4986,)\n",
      "training accuracy:  0.9783393501805054\n",
      "Accuracy:  [0.8006012  0.80541625 0.81945838 0.81945838 0.83650953]\n",
      "Mean Acc: 81.63%, SD: 1.26%)\n",
      "\n",
      "cluster36, shape:  (36872, 12) (36872,)\n",
      "training accuracy:  0.8498318507268388\n",
      "Accuracy:  [0.64718644 0.64352542 0.6343911  0.63927312 0.62408462]\n",
      "Mean Acc: 63.77%, SD: 0.80%)\n",
      "\n",
      "cluster37, shape:  (20737, 12) (20737,)\n",
      "training accuracy:  0.8830592660461977\n",
      "Accuracy:  [0.72733848 0.72299904 0.73764167 0.72486135 0.72847842]\n",
      "Mean Acc: 72.83%, SD: 0.51%)\n",
      "\n",
      "cluster38, shape:  (9386, 12) (9386,)\n",
      "training accuracy:  0.960686128276156\n",
      "Accuracy:  [0.77263046 0.76291955 0.78156633 0.76291955 0.78263186]\n",
      "Mean Acc: 77.25%, SD: 0.86%)\n",
      "\n",
      "cluster39, shape:  (7784, 12) (7784,)\n",
      "training accuracy:  0.9906217882836588\n",
      "Accuracy:  [0.87540141 0.88246628 0.8837508  0.87604367 0.90102828]\n",
      "Mean Acc: 88.37%, SD: 0.93%)\n",
      "\n",
      "cluster40, shape:  (67174, 12) (67174,)\n",
      "training accuracy:  0.7945484860213773\n",
      "Accuracy:  [0.71053219 0.71618906 0.7100856  0.71566803 0.70969183]\n",
      "Mean Acc: 71.24%, SD: 0.29%)\n",
      "\n",
      "cluster41, shape:  (8837, 12) (8837,)\n",
      "training accuracy:  0.9723888197352043\n",
      "Accuracy:  [0.81447964 0.80825792 0.8007923  0.80645161 0.8007923 ]\n",
      "Mean Acc: 80.62%, SD: 0.51%)\n",
      "\n",
      "cluster42, shape:  (28772, 12) (28772,)\n",
      "training accuracy:  0.8384888085638815\n",
      "Accuracy:  [0.70373588 0.69609036 0.69221411 0.69933959 0.68891206]\n",
      "Mean Acc: 69.61%, SD: 0.52%)\n",
      "\n",
      "cluster43, shape:  (6006, 12) (6006,)\n",
      "training accuracy:  0.9736929736929737\n",
      "Accuracy:  [0.82945092 0.8184846  0.81265612 0.81265612 0.84762698]\n",
      "Mean Acc: 82.42%, SD: 1.32%)\n",
      "\n",
      "cluster44, shape:  (29669, 12) (29669,)\n",
      "training accuracy:  0.9119282753041895\n",
      "Accuracy:  [0.80030334 0.80097742 0.80434783 0.79524772 0.8044834 ]\n",
      "Mean Acc: 80.11%, SD: 0.34%)\n",
      "\n",
      "cluster45, shape:  (7638, 12) (7638,)\n",
      "training accuracy:  0.9605917779523435\n",
      "Accuracy:  [0.83769634 0.84489529 0.82002618 0.83038638 0.84872299]\n",
      "Mean Acc: 83.63%, SD: 1.03%)\n",
      "\n",
      "cluster46, shape:  (64211, 12) (64211,)\n",
      "training accuracy:  0.7761598480011213\n",
      "Accuracy:  [0.68675543 0.68384987 0.67520635 0.68532939 0.68034574]\n",
      "Mean Acc: 68.23%, SD: 0.41%)\n",
      "\n",
      "cluster47, shape:  (26760, 12) (26760,)\n"
     ]
    },
    {
     "name": "stdout",
     "output_type": "stream",
     "text": [
      "training accuracy:  0.8725710014947683\n",
      "Accuracy:  [0.6887145  0.69843049 0.68684604 0.68740658 0.69488042]\n",
      "Mean Acc: 69.13%, SD: 0.46%)\n",
      "\n",
      "cluster48, shape:  (13977, 12) (13977,)\n",
      "training accuracy:  0.9446233097231166\n",
      "Accuracy:  [0.78147353 0.78540773 0.80178891 0.80465116 0.78604651]\n",
      "Mean Acc: 79.19%, SD: 0.94%)\n",
      "\n",
      "cluster49, shape:  (5751, 12) (5751,)\n",
      "training accuracy:  0.9996522343940184\n",
      "Accuracy:  [0.95482189 0.94521739 0.95565217 0.94956522 0.95130435]\n",
      "Mean Acc: 95.13%, SD: 0.38%)\n",
      "\n",
      "Overall training accuracy:  0.8450192934613967\n",
      "Overall CV accuracy:  71.7611610489365\n"
     ]
    }
   ],
   "source": [
    "gbdt_train('ZVe44')"
   ]
  },
  {
   "cell_type": "code",
   "execution_count": null,
   "metadata": {},
   "outputs": [],
   "source": []
  }
 ],
 "metadata": {
  "kernelspec": {
   "display_name": "Python 3",
   "language": "python",
   "name": "python3"
  },
  "language_info": {
   "codemirror_mode": {
    "name": "ipython",
    "version": 3
   },
   "file_extension": ".py",
   "mimetype": "text/x-python",
   "name": "python",
   "nbconvert_exporter": "python",
   "pygments_lexer": "ipython3",
   "version": "3.7.7"
  }
 },
 "nbformat": 4,
 "nbformat_minor": 2
}
